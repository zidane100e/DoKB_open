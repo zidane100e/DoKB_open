{
 "cells": [
  {
   "cell_type": "markdown",
   "metadata": {},
   "source": [
    "__편집 자료 입니다. 작동코드 아닙니다.__\n",
    "\n",
    "https://blog.keras.io/using-pre-trained-word-embeddings-in-a-keras-model.html"
   ]
  },
  {
   "cell_type": "markdown",
   "metadata": {},
   "source": [
    "### pretrained model 얻기 (파일 사이즈 주의)\n",
    "* Glove : https://nlp.stanford.edu/projects/glove/\n",
    "* 단어별 해당하는 word embedding 값을 얻어 embedding_index 에 저장\n",
    "    * 이 값을 새롭게 만드는 layer 에 초기화 값으로 입력"
   ]
  },
  {
   "cell_type": "code",
   "execution_count": null,
   "metadata": {},
   "outputs": [],
   "source": [
    "glove_dir = 'glove.6B'\n",
    "\n",
    "embedding_index = {}\n",
    "with open(os.path.join(glove_dir, 'glove.6B.100d.txt')) as f1\n",
    "    for line in f1:\n",
    "        values = line.split()\n",
    "        word = values[0]\n",
    "        coefs = np.asarray(values[1:], dtype='float32')\n",
    "        embeddings_index[word] = coefs"
   ]
  },
  {
   "cell_type": "markdown",
   "metadata": {},
   "source": [
    "### 불러온 데이터로부터 임베딩 값 얻기\n",
    "* 내부적으로 사용하려는 데이터에 대하여 word_index 를 정의한다\n",
    "    * word_index = 특정함수(text) 등을 적용해 추출\n",
    "* 한글의 경우 형태소 분석이 적용되면 더 좋다고 알려져 있음\n",
    "* index 순서에 따라 word embedding 값을 받으면 word_index 를 word_embedding 으로 변환하는  matrix(weight) 값을 얻는다"
   ]
  },
  {
   "cell_type": "code",
   "execution_count": null,
   "metadata": {},
   "outputs": [],
   "source": [
    "embedding_dim = 100  \n",
    "embedding_matrix = np.zeros((max_words, embedding_dim))  \n",
    "\n",
    "for word, i in word_index.items():  \n",
    "    if i < max_words:  \n",
    "        embedding_vector = embeddings_index.get(word)  \n",
    "        if embedding_vector is not None:  \n",
    "            embedding_matrix[i] = embedding_vector"
   ]
  },
  {
   "cell_type": "markdown",
   "metadata": {},
   "source": [
    "### 모델 구성"
   ]
  },
  {
   "cell_type": "code",
   "execution_count": null,
   "metadata": {},
   "outputs": [],
   "source": [
    "model = Sequential()  \n",
    "model.add(Embedding(max_words, embedding_dim, input_length=maxlen))  \n",
    "model.Flatten()  \n",
    "# ... (DNN construction)  "
   ]
  },
  {
   "cell_type": "markdown",
   "metadata": {},
   "source": [
    "### 모델에 임베딩 값 넣기\n",
    "* Embedding layer 의 weight 값으로 삽입\n",
    "* 학습에 의한 변화 제한"
   ]
  },
  {
   "cell_type": "code",
   "execution_count": null,
   "metadata": {},
   "outputs": [],
   "source": [
    "# 얻은 값 입력\n",
    "model.layers[0].set_weights([embedding_matrix])\n",
    "model.layers[0].trainable = False\n",
    "\n",
    "# 학습 시작 (분류기만 학습됨)\n",
    "# ... "
   ]
  }
 ],
 "metadata": {
  "kernelspec": {
   "display_name": "Python 3",
   "language": "python",
   "name": "python3"
  },
  "language_info": {
   "codemirror_mode": {
    "name": "ipython",
    "version": 3
   },
   "file_extension": ".py",
   "mimetype": "text/x-python",
   "name": "python",
   "nbconvert_exporter": "python",
   "pygments_lexer": "ipython3",
   "version": "3.7.1"
  }
 },
 "nbformat": 4,
 "nbformat_minor": 2
}
