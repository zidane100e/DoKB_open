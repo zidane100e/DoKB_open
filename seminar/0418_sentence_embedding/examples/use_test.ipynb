{
 "cells": [
  {
   "cell_type": "markdown",
   "metadata": {},
   "source": [
    "## Universal sentence encoder 사용 예시\n",
    "* 문장에 대한 직접적인 비교가 가능\n",
    "* 로컬 환경에서 실행하려면 아래 페이지를 참고하자\n",
    "    * https://www.tensorflow.org/hub/basics"
   ]
  },
  {
   "cell_type": "code",
   "execution_count": 1,
   "metadata": {},
   "outputs": [
    {
     "name": "stderr",
     "output_type": "stream",
     "text": [
      "WARNING: Logging before flag parsing goes to stderr.\n",
      "W0416 15:27:30.779164 139785420543744 __init__.py:56] Some hub symbols are not available because TensorFlow version is less than 1.14\n"
     ]
    }
   ],
   "source": [
    "import tensorflow as tf\n",
    "import tensorflow_hub as hub\n",
    "import numpy as np\n",
    "import tf_sentencepiece\n",
    "\n",
    "# Some texts of different lengths.\n",
    "sentences = [\"나는 한글을 사랑합니다\",\n",
    "                    \"나는 우리말을 사랑합니다\", \n",
    "                    \"나는 너를 사랑합니다\", \n",
    "                    \"나는 한글이 너무 아름답다고 생각합니다\", \n",
    "                    \"메모장은 사용이 불편합니다\", \n",
    "                    \"내가 사용하던 메모장은 기능이 많이 부족합니다\", \n",
    "                    \"메모장은 글자를 쓸 수 있는 도구입니다\", \n",
    "                    \"이 메모장은 정말 훌륭한 것 같습니다\",\n",
    "                    \"이 직원은 정말 일을 잘합니다\",  \n",
    "                    \"은행 직원이 너무 불친절 합니다\", \n",
    "                    \"은행 직원이 기뻐하는 모습이 아름답습니다\",\n",
    "                    \"예금 인출을 위해서는 먼저 줄을 서야 합니다\", \n",
    "                    \"버스를 타려면 저기 줄 뒤에 서세요\"]"
   ]
  },
  {
   "cell_type": "code",
   "execution_count": 2,
   "metadata": {},
   "outputs": [
    {
     "name": "stdout",
     "output_type": "stream",
     "text": [
      "INFO:tensorflow:Saver not created because there are no variables in the graph to restore\n"
     ]
    },
    {
     "name": "stderr",
     "output_type": "stream",
     "text": [
      "I0416 15:27:45.987104 139785420543744 tf_logging.py:115] Saver not created because there are no variables in the graph to restore\n"
     ]
    }
   ],
   "source": [
    "# Set up graph.\n",
    "g = tf.Graph()\n",
    "with g.as_default():\n",
    "    text_input = tf.placeholder(dtype=tf.string, shape=[None])\n",
    "    xling_8_embed = hub.Module(\"https://tfhub.dev/google/universal-sentence-encoder-xling-many/1\")\n",
    "    embedded_text = xling_8_embed(text_input)\n",
    "    init_op = tf.group([tf.global_variables_initializer(), tf.tables_initializer()])\n",
    "g.finalize()\n",
    "\n",
    "# Initialize session.\n",
    "session = tf.Session(graph=g)\n",
    "session.run(init_op)"
   ]
  },
  {
   "cell_type": "code",
   "execution_count": 7,
   "metadata": {},
   "outputs": [
    {
     "name": "stdout",
     "output_type": "stream",
     "text": [
      "[[ 0.05336764 -0.020971   -0.01621751 ... -0.09863348  0.05069829\n",
      "  -0.03755969]\n",
      " [-0.01632101 -0.06642696 -0.0253969  ... -0.09832521  0.02571269\n",
      "   0.02095492]\n",
      " [-0.01147083 -0.0680128  -0.0244094  ... -0.08506192 -0.01118958\n",
      "   0.05937229]\n",
      " ...\n",
      " [ 0.02129305 -0.00904285  0.00223683 ... -0.09466263 -0.03796628\n",
      "  -0.05667244]\n",
      " [ 0.06210278  0.00982793 -0.04973892 ... -0.03706284 -0.02946508\n",
      "  -0.03796549]\n",
      " [ 0.01289104 -0.05725896 -0.00527408 ... -0.09200849 -0.03560571\n",
      "  -0.00684112]]\n",
      "[[1.0000002  0.65589565 0.5733584  0.7759081  0.30173162 0.24042828\n",
      "  0.2609595  0.4825729  0.43518743 0.3168612  0.38949448 0.18263823\n",
      "  0.16737138]\n",
      " [0.65589565 0.9999999  0.65545404 0.47148776 0.26304603 0.19167252\n",
      "  0.12236132 0.40009493 0.4413885  0.3157822  0.38553917 0.139135\n",
      "  0.22325863]\n",
      " [0.5733584  0.65545404 0.9999999  0.42906526 0.20599075 0.15860288\n",
      "  0.12261134 0.4291544  0.426741   0.31456044 0.3739106  0.19344404\n",
      "  0.3056507 ]\n",
      " [0.7759081  0.47148776 0.42906526 0.9999999  0.33596057 0.24111316\n",
      "  0.2954116  0.57888734 0.42698961 0.26589146 0.5281318  0.18310075\n",
      "  0.13644508]\n",
      " [0.30173162 0.26304603 0.20599075 0.33596057 1.         0.7905785\n",
      "  0.72891164 0.67981803 0.30582124 0.3283171  0.23636141 0.22526783\n",
      "  0.18481547]\n",
      " [0.24042828 0.19167252 0.15860288 0.24111316 0.7905785  0.99999976\n",
      "  0.6801684  0.5749843  0.1672136  0.17564109 0.10360818 0.12373024\n",
      "  0.04407327]\n",
      " [0.2609595  0.12236132 0.12261134 0.2954116  0.72891164 0.6801684\n",
      "  0.9999999  0.5738671  0.15991972 0.1290062  0.09927222 0.15703586\n",
      "  0.10223219]\n",
      " [0.4825729  0.40009493 0.4291544  0.57888734 0.67981803 0.5749843\n",
      "  0.5738671  0.99999994 0.57658184 0.32812274 0.41787422 0.26526362\n",
      "  0.17229573]\n",
      " [0.43518743 0.4413885  0.426741   0.42698961 0.30582124 0.1672136\n",
      "  0.15991972 0.57658184 0.9999999  0.66004944 0.66519123 0.28857368\n",
      "  0.28140795]\n",
      " [0.3168612  0.3157822  0.31456044 0.26589146 0.3283171  0.17564109\n",
      "  0.1290062  0.32812274 0.66004944 1.0000001  0.7365047  0.49547577\n",
      "  0.27771798]\n",
      " [0.38949448 0.38553917 0.3739106  0.5281318  0.23636141 0.10360818\n",
      "  0.09927222 0.41787422 0.66519123 0.7365047  0.99999976 0.32491803\n",
      "  0.20790327]\n",
      " [0.18263823 0.139135   0.19344404 0.18310075 0.22526783 0.12373024\n",
      "  0.15703586 0.26526362 0.28857368 0.49547577 0.32491803 1.0000002\n",
      "  0.43589464]\n",
      " [0.16737138 0.22325863 0.3056507  0.13644508 0.18481547 0.04407327\n",
      "  0.10223219 0.17229573 0.28140795 0.27771798 0.20790327 0.43589464\n",
      "  1.0000001 ]]\n"
     ]
    }
   ],
   "source": [
    "# Compute embeddings.\n",
    "kr_result = session.run(embedded_text, feed_dict={text_input: sentences})\n",
    "\n",
    "# Compute similarity matrix. Higher score indicates greater similarity.\n",
    "sim_mat = np.inner(kr_result, kr_result)\n",
    "\n",
    "print(kr_result)\n",
    "print(sim_mat)"
   ]
  },
  {
   "cell_type": "code",
   "execution_count": 8,
   "metadata": {},
   "outputs": [],
   "source": [
    "import operator\n",
    "sent_dic = {sent: i for i, sent in enumerate(sentences) }\n",
    "def get_sim(sim_mat, sent):\n",
    "    i = sent_dic[sent]\n",
    "    vals = sim_mat[i]\n",
    "    val_dic = {j: val for j, val in enumerate(vals) if j is not i}\n",
    "    sorted_val = sorted(val_dic.items(), key=operator.itemgetter(1), reverse=True)\n",
    "    return sorted_val"
   ]
  },
  {
   "cell_type": "code",
   "execution_count": 9,
   "metadata": {},
   "outputs": [
    {
     "name": "stdout",
     "output_type": "stream",
     "text": [
      "나는 한글을 사랑합니다\n",
      "\t나는 한글이 너무 아름답다고 생각합니다\t나는 우리말을 사랑합니다\t나는 너를 사랑합니다\n",
      "\n",
      "나는 우리말을 사랑합니다\n",
      "\t나는 한글을 사랑합니다\t나는 너를 사랑합니다\t나는 한글이 너무 아름답다고 생각합니다\n",
      "\n",
      "나는 너를 사랑합니다\n",
      "\t나는 우리말을 사랑합니다\t나는 한글을 사랑합니다\t이 메모장은 정말 훌륭한 것 같습니다\n",
      "\n",
      "나는 한글이 너무 아름답다고 생각합니다\n",
      "\t나는 한글을 사랑합니다\t이 메모장은 정말 훌륭한 것 같습니다\t은행 직원이 기뻐하는 모습이 아름답습니다\n",
      "\n",
      "메모장은 사용이 불편합니다\n",
      "\t내가 사용하던 메모장은 기능이 많이 부족합니다\t메모장은 글자를 쓸 수 있는 도구입니다\t이 메모장은 정말 훌륭한 것 같습니다\n",
      "\n",
      "내가 사용하던 메모장은 기능이 많이 부족합니다\n",
      "\t메모장은 사용이 불편합니다\t메모장은 글자를 쓸 수 있는 도구입니다\t이 메모장은 정말 훌륭한 것 같습니다\n",
      "\n",
      "메모장은 글자를 쓸 수 있는 도구입니다\n",
      "\t메모장은 사용이 불편합니다\t내가 사용하던 메모장은 기능이 많이 부족합니다\t이 메모장은 정말 훌륭한 것 같습니다\n",
      "\n",
      "이 메모장은 정말 훌륭한 것 같습니다\n",
      "\t메모장은 사용이 불편합니다\t나는 한글이 너무 아름답다고 생각합니다\t이 직원은 정말 일을 잘합니다\n",
      "\n",
      "이 직원은 정말 일을 잘합니다\n",
      "\t은행 직원이 기뻐하는 모습이 아름답습니다\t은행 직원이 너무 불친절 합니다\t이 메모장은 정말 훌륭한 것 같습니다\n",
      "\n",
      "은행 직원이 너무 불친절 합니다\n",
      "\t은행 직원이 기뻐하는 모습이 아름답습니다\t이 직원은 정말 일을 잘합니다\t예금 인출을 위해서는 먼저 줄을 서야 합니다\n",
      "\n",
      "은행 직원이 기뻐하는 모습이 아름답습니다\n",
      "\t은행 직원이 너무 불친절 합니다\t이 직원은 정말 일을 잘합니다\t나는 한글이 너무 아름답다고 생각합니다\n",
      "\n",
      "예금 인출을 위해서는 먼저 줄을 서야 합니다\n",
      "\t은행 직원이 너무 불친절 합니다\t버스를 타려면 저기 줄 뒤에 서세요\t은행 직원이 기뻐하는 모습이 아름답습니다\n",
      "\n",
      "버스를 타려면 저기 줄 뒤에 서세요\n",
      "\t예금 인출을 위해서는 먼저 줄을 서야 합니다\t나는 너를 사랑합니다\t이 직원은 정말 일을 잘합니다\n",
      "\n"
     ]
    }
   ],
   "source": [
    "for sent1 in sentences:\n",
    "    print(sent1)\n",
    "    vals = get_sim(sim_mat, sent1)[:3]\n",
    "    sim_sent = [sentences[x[0]] for x in vals]\n",
    "    print('\\t'+'\\t'.join(sim_sent))\n",
    "    print()"
   ]
  },
  {
   "cell_type": "code",
   "execution_count": null,
   "metadata": {},
   "outputs": [],
   "source": []
  }
 ],
 "metadata": {
  "kernelspec": {
   "display_name": "Python 3",
   "language": "python",
   "name": "python3"
  },
  "language_info": {
   "codemirror_mode": {
    "name": "ipython",
    "version": 3
   },
   "file_extension": ".py",
   "mimetype": "text/x-python",
   "name": "python",
   "nbconvert_exporter": "python",
   "pygments_lexer": "ipython3",
   "version": "3.7.1"
  }
 },
 "nbformat": 4,
 "nbformat_minor": 2
}
