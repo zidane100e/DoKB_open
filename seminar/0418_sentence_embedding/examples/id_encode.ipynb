{
 "cells": [
  {
   "cell_type": "code",
   "execution_count": 2,
   "metadata": {},
   "outputs": [],
   "source": [
    "# 찾을 단어가 확인할 문장에 있는지 확인하자\n",
    "\n",
    "# prepration\n",
    "word2ix = {'삼성전자의': 0,  '영업이익이': 1, '30%': 2, '증가하였다': 3}\n",
    "ix2word = {0: '삼성전자의',  1: '영업이익이', 2: '30%', 3: '증가하였다'}  \n",
    "\n",
    "sent = \"삼성전자의 영업이익이 30% 증가하였다\"\n",
    "target = ['영업이익이', '증가하였다']"
   ]
  },
  {
   "cell_type": "code",
   "execution_count": 3,
   "metadata": {},
   "outputs": [],
   "source": [
    "def str2token(str1):\n",
    "    elms = str1.split()\n",
    "    token = [ word2ix[word1] for word1 in elms ]\n",
    "    return token\n",
    "\n",
    "def count_target(target, sent):\n",
    "    freq = {key: 0 for key in target}\n",
    "    for word1 in sent:\n",
    "        if word1 in target:\n",
    "            freq[word1] += 1\n",
    "    return freq"
   ]
  },
  {
   "cell_type": "code",
   "execution_count": 4,
   "metadata": {},
   "outputs": [
    {
     "name": "stdout",
     "output_type": "stream",
     "text": [
      "sent [0, 1, 2, 3]\n",
      "target [1, 3]\n"
     ]
    }
   ],
   "source": [
    "# encode\n",
    "sent = str2token(sent)\n",
    "target = str2token(' '.join(target))\n",
    "print('sent', sent)\n",
    "print('target', target)"
   ]
  },
  {
   "cell_type": "code",
   "execution_count": 5,
   "metadata": {},
   "outputs": [
    {
     "name": "stdout",
     "output_type": "stream",
     "text": [
      "target counts {1: 1, 3: 1}\n",
      "positive True\n"
     ]
    }
   ],
   "source": [
    "counts = count_target(target, sent) \n",
    "\n",
    "from functools import reduce\n",
    "positive = reduce(lambda x, y: x>0 and y>0, counts.values())\n",
    "print('target counts', counts)\n",
    "print('positive', positive)"
   ]
  },
  {
   "cell_type": "code",
   "execution_count": null,
   "metadata": {},
   "outputs": [],
   "source": []
  }
 ],
 "metadata": {
  "kernelspec": {
   "display_name": "Python 3",
   "language": "python",
   "name": "python3"
  },
  "language_info": {
   "codemirror_mode": {
    "name": "ipython",
    "version": 3
   },
   "file_extension": ".py",
   "mimetype": "text/x-python",
   "name": "python",
   "nbconvert_exporter": "python",
   "pygments_lexer": "ipython3",
   "version": "3.6.7"
  }
 },
 "nbformat": 4,
 "nbformat_minor": 2
}
