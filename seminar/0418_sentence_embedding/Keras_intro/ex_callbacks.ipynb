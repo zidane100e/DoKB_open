{
 "cells": [
  {
   "cell_type": "markdown",
   "metadata": {},
   "source": [
    "### Callbacks\n",
    "* 콜백 : 컴퓨터 작업 중 특정 조건이 되면 다른 작업을 실행할 수 있도록 하는 것\n",
    "* 딥러닝의 학습이 시작되면 끝날때까지 학습과정에 손을 댈 수 없음  \n",
    "  장기간 작업하는 경우 콜백을 설정하지 않으면 매우 비효율적\n",
    "* 콜백 제공 함수 예시\n",
    "    * 학습 진행 사항 기록\n",
    "    * 학습 수행 중 성능이 일정 수준 이상 올라가면 멈추기\n",
    "    * 최고 기록들을 저장"
   ]
  },
  {
   "cell_type": "code",
   "execution_count": 2,
   "metadata": {},
   "outputs": [
    {
     "name": "stderr",
     "output_type": "stream",
     "text": [
      "Using TensorFlow backend.\n"
     ]
    }
   ],
   "source": [
    "import keras\n",
    "from keras.models import Sequential\n",
    "from keras.layers import Dense, Dropout, Activation\n",
    "from keras.optimizers import SGD"
   ]
  },
  {
   "cell_type": "markdown",
   "metadata": {},
   "source": [
    "콜백 함수들의 어떻게 정의되었는가 설펴보면 https://keras.io/callbacks/  \n",
    "모델(Sequential, Model)에서 사용되는 함수이다\n",
    "\n",
    "모델을 살펴보면 모델이 학습을 할 때의 조건으로 들어감을 알 수 있다. \n",
    "https://github.com/keras-team/keras/blob/master/keras/engine/training.py\n",
    "```\n",
    "class Model(Network):  \n",
    "...    \n",
    "def fit(self, x=None, y=None, ..., callbacks=None, ...)  \n",
    "    args  \n",
    "\tcallbacks: List of `keras.callbacks.Callback` instances.  \n",
    "                List of callbacks to apply during training and validation   \n",
    "                (if ).  \n",
    "                See [callbacks](/callbacks)  \n",
    "\n",
    "```"
   ]
  },
  {
   "cell_type": "markdown",
   "metadata": {},
   "source": [
    "앞에서 살펴본 예시에 콜백 함수를 포함시켜 보자"
   ]
  },
  {
   "cell_type": "code",
   "execution_count": 3,
   "metadata": {},
   "outputs": [],
   "source": [
    "# Generate dummy data\n",
    "import numpy as np\n",
    "n_train_data = 1000\n",
    "n_test_data = 100\n",
    "input_dim = 20"
   ]
  },
  {
   "cell_type": "code",
   "execution_count": 4,
   "metadata": {},
   "outputs": [],
   "source": [
    "def f_x(xs):\n",
    "    i_max = -1\n",
    "    max_val = -100000\n",
    "    for i, x in enumerate(xs):\n",
    "        if x > max_val:\n",
    "            max_val = x\n",
    "            i_max = i\n",
    "    return i_max/2"
   ]
  },
  {
   "cell_type": "code",
   "execution_count": 5,
   "metadata": {},
   "outputs": [],
   "source": [
    "x_train = np.random.random((n_train_data, input_dim))\n",
    "y_train_temp = np.array( [ f_x(x) for x in x_train ] )\n",
    "y_train = keras.utils.to_categorical(y_train_temp, num_classes=10)\n",
    "x_test = np.random.random((n_test_data, input_dim))\n",
    "y_test_temp = np.array( [ f_x(x) for x in x_test ] )\n",
    "y_test = keras.utils.to_categorical(y_test_temp, num_classes=10)"
   ]
  },
  {
   "cell_type": "code",
   "execution_count": 59,
   "metadata": {},
   "outputs": [],
   "source": [
    "model = Sequential([\n",
    "    Dense(32, input_shape=(input_dim,)),\n",
    "    Activation('relu'),\n",
    "    Dense(10),\n",
    "    Activation('softmax'),\n",
    "])\n",
    "model.compile(optimizer='rmsprop', loss='categorical_crossentropy', metrics=['acc'])"
   ]
  },
  {
   "cell_type": "markdown",
   "metadata": {},
   "source": [
    "### 콜백 미적용"
   ]
  },
  {
   "cell_type": "code",
   "execution_count": 49,
   "metadata": {},
   "outputs": [
    {
     "name": "stdout",
     "output_type": "stream",
     "text": [
      "Epoch 1/30\n",
      "1000/1000 [==============================] - 0s 340us/step - loss: 2.3417 - acc: 0.1180\n",
      "Epoch 2/30\n",
      "1000/1000 [==============================] - 0s 10us/step - loss: 2.3086 - acc: 0.1330\n",
      "Epoch 3/30\n",
      "1000/1000 [==============================] - 0s 11us/step - loss: 2.2885 - acc: 0.1420\n",
      "Epoch 4/30\n",
      "1000/1000 [==============================] - 0s 10us/step - loss: 2.2732 - acc: 0.1570\n",
      "Epoch 5/30\n",
      "1000/1000 [==============================] - 0s 11us/step - loss: 2.2596 - acc: 0.1690\n",
      "Epoch 6/30\n",
      "1000/1000 [==============================] - 0s 40us/step - loss: 2.2470 - acc: 0.1810\n",
      "Epoch 7/30\n",
      "1000/1000 [==============================] - 0s 11us/step - loss: 2.2345 - acc: 0.1890\n",
      "Epoch 8/30\n",
      "1000/1000 [==============================] - 0s 11us/step - loss: 2.2232 - acc: 0.1940\n",
      "Epoch 9/30\n",
      "1000/1000 [==============================] - 0s 10us/step - loss: 2.2123 - acc: 0.2090\n",
      "Epoch 10/30\n",
      "1000/1000 [==============================] - 0s 9us/step - loss: 2.2001 - acc: 0.2120\n",
      "Epoch 11/30\n",
      "1000/1000 [==============================] - 0s 9us/step - loss: 2.1903 - acc: 0.2230\n",
      "Epoch 12/30\n",
      "1000/1000 [==============================] - 0s 11us/step - loss: 2.1800 - acc: 0.2170\n",
      "Epoch 13/30\n",
      "1000/1000 [==============================] - 0s 12us/step - loss: 2.1697 - acc: 0.2380\n",
      "Epoch 14/30\n",
      "1000/1000 [==============================] - 0s 9us/step - loss: 2.1592 - acc: 0.2490\n",
      "Epoch 15/30\n",
      "1000/1000 [==============================] - 0s 10us/step - loss: 2.1487 - acc: 0.2540\n",
      "Epoch 16/30\n",
      "1000/1000 [==============================] - 0s 9us/step - loss: 2.1386 - acc: 0.2640\n",
      "Epoch 17/30\n",
      "1000/1000 [==============================] - 0s 9us/step - loss: 2.1284 - acc: 0.2680\n",
      "Epoch 18/30\n",
      "1000/1000 [==============================] - 0s 9us/step - loss: 2.1180 - acc: 0.2720\n",
      "Epoch 19/30\n",
      "1000/1000 [==============================] - 0s 12us/step - loss: 2.1079 - acc: 0.2920\n",
      "Epoch 20/30\n",
      "1000/1000 [==============================] - 0s 11us/step - loss: 2.0983 - acc: 0.2850\n",
      "Epoch 21/30\n",
      "1000/1000 [==============================] - 0s 17us/step - loss: 2.0874 - acc: 0.2970\n",
      "Epoch 22/30\n",
      "1000/1000 [==============================] - 0s 11us/step - loss: 2.0773 - acc: 0.3010\n",
      "Epoch 23/30\n",
      "1000/1000 [==============================] - 0s 12us/step - loss: 2.0663 - acc: 0.3130\n",
      "Epoch 24/30\n",
      "1000/1000 [==============================] - 0s 36us/step - loss: 2.0566 - acc: 0.3080\n",
      "Epoch 25/30\n",
      "1000/1000 [==============================] - 0s 10us/step - loss: 2.0464 - acc: 0.3200\n",
      "Epoch 26/30\n",
      "1000/1000 [==============================] - 0s 10us/step - loss: 2.0355 - acc: 0.3300\n",
      "Epoch 27/30\n",
      "1000/1000 [==============================] - 0s 11us/step - loss: 2.0252 - acc: 0.3210\n",
      "Epoch 28/30\n",
      "1000/1000 [==============================] - 0s 11us/step - loss: 2.0159 - acc: 0.3360\n",
      "Epoch 29/30\n",
      "1000/1000 [==============================] - 0s 10us/step - loss: 2.0059 - acc: 0.3390\n",
      "Epoch 30/30\n",
      "1000/1000 [==============================] - 0s 48us/step - loss: 1.9976 - acc: 0.3400\n"
     ]
    },
    {
     "data": {
      "text/plain": [
       "<keras.callbacks.History at 0x7f2dedf0bef0>"
      ]
     },
     "execution_count": 49,
     "metadata": {},
     "output_type": "execute_result"
    }
   ],
   "source": [
    "model.fit(x_train, y_train, epochs=30, batch_size=128)"
   ]
  },
  {
   "cell_type": "markdown",
   "metadata": {},
   "source": [
    "### 콜백 적용 \n",
    "* Early stop 을 보기위해 위에서 학습된 상태에서 추가 학습 진행"
   ]
  },
  {
   "cell_type": "code",
   "execution_count": 71,
   "metadata": {},
   "outputs": [
    {
     "name": "stdout",
     "output_type": "stream",
     "text": [
      "Train on 1000 samples, validate on 100 samples\n",
      "Epoch 1/40\n",
      "1000/1000 [==============================] - 0s 12us/step - loss: 1.8655 - acc: 0.3770 - val_loss: 1.9142 - val_acc: 0.3900\n",
      "\n",
      "Epoch 00001: val_loss improved from inf to 1.91416, saving model to my_model.h5\n",
      "Epoch 2/40\n",
      "1000/1000 [==============================] - 0s 10us/step - loss: 1.8587 - acc: 0.3810 - val_loss: 1.9069 - val_acc: 0.4000\n",
      "\n",
      "Epoch 00002: val_loss improved from 1.91416 to 1.90688, saving model to my_model.h5\n",
      "Epoch 3/40\n",
      "1000/1000 [==============================] - 0s 11us/step - loss: 1.8500 - acc: 0.3870 - val_loss: 1.9012 - val_acc: 0.3800\n",
      "\n",
      "Epoch 00003: val_loss improved from 1.90688 to 1.90119, saving model to my_model.h5\n",
      "Epoch 4/40\n",
      "1000/1000 [==============================] - 0s 33us/step - loss: 1.8418 - acc: 0.3840 - val_loss: 1.8954 - val_acc: 0.3700\n",
      "\n",
      "Epoch 00004: val_loss improved from 1.90119 to 1.89538, saving model to my_model.h5\n",
      "Epoch 5/40\n",
      "1000/1000 [==============================] - 0s 12us/step - loss: 1.8349 - acc: 0.3820 - val_loss: 1.8891 - val_acc: 0.3900\n",
      "\n",
      "Epoch 00005: val_loss improved from 1.89538 to 1.88915, saving model to my_model.h5\n"
     ]
    },
    {
     "data": {
      "text/plain": [
       "<keras.callbacks.History at 0x7f2de7fb9b00>"
      ]
     },
     "execution_count": 71,
     "metadata": {},
     "output_type": "execute_result"
    }
   ],
   "source": [
    "callback_list = [keras.callbacks.EarlyStopping(monitor='acc', patience=2),\n",
    "            keras.callbacks.ModelCheckpoint(filepath='my_model.h5', verbose=1, monitor='val_loss', save_best_only=True)]\n",
    "model.fit(x_train, y_train, epochs=40, batch_size=128, callbacks=callback_list, validation_data=(x_test, y_test))"
   ]
  },
  {
   "cell_type": "markdown",
   "metadata": {},
   "source": [
    "### Custom callback\n",
    "필요에 따라 개인적으로 콜백 함수의 구성 가능  \n",
    "예) \n",
    "* epoch 때마다 결과값을 받아서 포인트 저장 및 종료시 그림 등의 원하는 작업 수행  \n",
    "* 트레이닝 시간이 오래 걸리면 중간 중간 결과값에 대한 특정 작업 수행\n",
    "* 특정 조건 만족하는지 확인\n",
    "\n",
    "```\n",
    "class new_callback(keras.callbacks.Callback):\n",
    "    def on_epoch_begin(): ...\n",
    "    def on_epoch_end(): ...\n",
    "    def on_batch_begin(): ...\n",
    "    def on_batch_end(): ...\n",
    "    def on_train_begin(): ...\n",
    "    def on_train_end(): ...\n",
    "```"
   ]
  },
  {
   "cell_type": "markdown",
   "metadata": {},
   "source": [
    "[Go Back](../NLP_intro.ipynb)"
   ]
  },
  {
   "cell_type": "code",
   "execution_count": null,
   "metadata": {},
   "outputs": [],
   "source": []
  }
 ],
 "metadata": {
  "kernelspec": {
   "display_name": "Python 3",
   "language": "python",
   "name": "python3"
  },
  "language_info": {
   "codemirror_mode": {
    "name": "ipython",
    "version": 3
   },
   "file_extension": ".py",
   "mimetype": "text/x-python",
   "name": "python",
   "nbconvert_exporter": "python",
   "pygments_lexer": "ipython3",
   "version": "3.7.1"
  }
 },
 "nbformat": 4,
 "nbformat_minor": 2
}
