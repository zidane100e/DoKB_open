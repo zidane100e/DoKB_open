{
 "cells": [
  {
   "cell_type": "markdown",
   "metadata": {},
   "source": [
    "### Keras 학습 방법\n",
    "Keras 에서 정의된 함수, 클래스 등의 세부 내용이 필요할 때는\n",
    "* web page 참고, \n",
    "* web의 설명이 부족하면 source 코드를 직접 살펴보면 된다.  \n",
    "* 코드 등을 변경하고 싶을 때는 소스코드를 변경하고, 변경된 파일로 재설치한다(일반적으로 setup.py)\n",
    "\n",
    "참고  \n",
    "https://keras.io/#getting-started-30-seconds-to-keras  \n",
    "https://keras.io/getting-started/sequential-model-guide/  \n",
    "https://keras.io/getting-started/functional-api-guide/  \n",
    "\n",
    "https://keras.io/models/sequential/  \n",
    "https://keras.io/models/model/"
   ]
  },
  {
   "cell_type": "markdown",
   "metadata": {},
   "source": [
    "### 딥러닝 모델 만들기   \n",
    "    * 모델 생성을 위한 2개의  클래스 존재 [Sequential, Model]  \n",
    "        * Sequential 은 간단한 모델 구성에 간편하게 사용가능\n",
    "        * 복잡한 구성을 위해서는 Model 필요. Sequential 을 포함\n",
    "        # [참고] Python 에서 관습적으로 class 들은 대문자로 사용\n",
    "\n",
    "        * Sequential 은 Model 의 자식 클래스\n",
    "        * ```  \n",
    "           keras/engine/sequential.py 참고   \n",
    "            \n",
    "            class Sequential(Model):  \n",
    "            \"\"\"Linear stack of layers.  ```\n",
    "    * 각 모델은 layer 로 구성  \n",
    "\n",
    "<img src=\"../pic/keras_model.jpg\" width=\"600\"/> "
   ]
  },
  {
   "cell_type": "markdown",
   "metadata": {},
   "source": [
    "### 순서\n",
    "1. Data preparation\n",
    "2. Model construction\n",
    "3. Model training\n",
    "4. Model evaluation"
   ]
  },
  {
   "cell_type": "code",
   "execution_count": 3,
   "metadata": {},
   "outputs": [
    {
     "name": "stderr",
     "output_type": "stream",
     "text": [
      "Using TensorFlow backend.\n"
     ]
    }
   ],
   "source": [
    "import keras\n",
    "from keras.models import Sequential\n",
    "from keras.layers import Dense, Dropout, Activation\n",
    "from keras.optimizers import SGD"
   ]
  },
  {
   "cell_type": "markdown",
   "metadata": {},
   "source": [
    "1. Data preparation"
   ]
  },
  {
   "cell_type": "code",
   "execution_count": 4,
   "metadata": {},
   "outputs": [],
   "source": [
    "# Generate dummy data\n",
    "import numpy as np\n",
    "n_train_data = 1000\n",
    "n_test_data = 100\n",
    "input_dim = 20\n",
    "x_train = np.random.random((n_train_data, input_dim))\n",
    "y_train = keras.utils.to_categorical(np.random.randint(10, size=(n_train_data, 1)), num_classes=10)\n",
    "x_test = np.random.random((n_test_data, input_dim))\n",
    "y_test = keras.utils.to_categorical(np.random.randint(10, size=(n_test_data, 1)), num_classes=10)"
   ]
  },
  {
   "cell_type": "markdown",
   "metadata": {},
   "source": [
    "2. Model construction"
   ]
  },
  {
   "cell_type": "code",
   "execution_count": 5,
   "metadata": {},
   "outputs": [
    {
     "name": "stdout",
     "output_type": "stream",
     "text": [
      "WARNING:tensorflow:From /opt/conda/lib/python3.7/site-packages/tensorflow/python/framework/op_def_library.py:263: colocate_with (from tensorflow.python.framework.ops) is deprecated and will be removed in a future version.\n",
      "Instructions for updating:\n",
      "Colocations handled automatically by placer.\n"
     ]
    }
   ],
   "source": [
    "model = Sequential([\n",
    "    Dense(32, input_shape=(input_dim,)),\n",
    "    Activation('relu'),\n",
    "    Dense(10),\n",
    "    Activation('softmax'),\n",
    "])"
   ]
  },
  {
   "cell_type": "markdown",
   "metadata": {},
   "source": [
    "또는 아래와 같은 방법으로 생성  \n",
    "```\n",
    "model = Sequential()  \n",
    "model.add(Dense(32, input_dim=784))  \n",
    "model.add(Activation('relu'))  \n",
    "```\n",
    "https://github.com/keras-team/keras/blob/master/keras/engine/sequential.py  \n",
    "코드를 살펴보면 처음 생성시 구성 layer를 받을 수 있으며, 추가할 수도 있음\n",
    "\n",
    "```\n",
    "def __init__(self, layers=None, name=None):  \n",
    "    super(Sequential, self).__init__(name=name)  \n",
    "    self._build_input_shape = None  \n",
    "  \n",
    "    # Add to the model any layers passed to the constructor.  \n",
    "    if layers:  \n",
    "        for layer in layers:  \n",
    "            self.add(layer)  \n",
    "    ...\n",
    "    \n",
    "    def add(self, layer):  \n",
    "        \"\"\"Adds a layer instance on top of the layer stack.    \n",
    "        # Arguments    \n",
    "        layer: layer instance.    \n",
    "```"
   ]
  },
  {
   "cell_type": "markdown",
   "metadata": {},
   "source": [
    "모델 layer 결정 후에는 compile 함수를 통해 어떻게 학습할 지 지정"
   ]
  },
  {
   "cell_type": "code",
   "execution_count": 6,
   "metadata": {},
   "outputs": [],
   "source": [
    "model.compile(optimizer='rmsprop', loss='categorical_crossentropy', metrics=['accuracy'])"
   ]
  },
  {
   "cell_type": "markdown",
   "metadata": {},
   "source": [
    "3. Model training"
   ]
  },
  {
   "cell_type": "code",
   "execution_count": 7,
   "metadata": {},
   "outputs": [
    {
     "name": "stdout",
     "output_type": "stream",
     "text": [
      "WARNING:tensorflow:From /opt/conda/lib/python3.7/site-packages/tensorflow/python/ops/math_ops.py:3066: to_int32 (from tensorflow.python.ops.math_ops) is deprecated and will be removed in a future version.\n",
      "Instructions for updating:\n",
      "Use tf.cast instead.\n",
      "Epoch 1/20\n",
      "1000/1000 [==============================] - 0s 142us/step - loss: 2.3928 - acc: 0.1070\n",
      "Epoch 2/20\n",
      "1000/1000 [==============================] - 0s 10us/step - loss: 2.3494 - acc: 0.1120\n",
      "Epoch 3/20\n",
      "1000/1000 [==============================] - 0s 9us/step - loss: 2.3319 - acc: 0.1100\n",
      "Epoch 4/20\n",
      "1000/1000 [==============================] - 0s 11us/step - loss: 2.3224 - acc: 0.1130\n",
      "Epoch 5/20\n",
      "1000/1000 [==============================] - 0s 10us/step - loss: 2.3157 - acc: 0.1110\n",
      "Epoch 6/20\n",
      "1000/1000 [==============================] - 0s 37us/step - loss: 2.3098 - acc: 0.1070\n",
      "Epoch 7/20\n",
      "1000/1000 [==============================] - 0s 12us/step - loss: 2.3066 - acc: 0.1110\n",
      "Epoch 8/20\n",
      "1000/1000 [==============================] - 0s 10us/step - loss: 2.3031 - acc: 0.1120\n",
      "Epoch 9/20\n",
      "1000/1000 [==============================] - 0s 9us/step - loss: 2.3000 - acc: 0.1100\n",
      "Epoch 10/20\n",
      "1000/1000 [==============================] - 0s 10us/step - loss: 2.2981 - acc: 0.1170\n",
      "Epoch 11/20\n",
      "1000/1000 [==============================] - 0s 9us/step - loss: 2.2957 - acc: 0.1110\n",
      "Epoch 12/20\n",
      "1000/1000 [==============================] - 0s 40us/step - loss: 2.2941 - acc: 0.1200\n",
      "Epoch 13/20\n",
      "1000/1000 [==============================] - 0s 11us/step - loss: 2.2919 - acc: 0.1200\n",
      "Epoch 14/20\n",
      "1000/1000 [==============================] - 0s 10us/step - loss: 2.2905 - acc: 0.1290\n",
      "Epoch 15/20\n",
      "1000/1000 [==============================] - 0s 9us/step - loss: 2.2892 - acc: 0.1270\n",
      "Epoch 16/20\n",
      "1000/1000 [==============================] - 0s 11us/step - loss: 2.2877 - acc: 0.1300\n",
      "Epoch 17/20\n",
      "1000/1000 [==============================] - 0s 11us/step - loss: 2.2867 - acc: 0.1330\n",
      "Epoch 18/20\n",
      "1000/1000 [==============================] - 0s 42us/step - loss: 2.2854 - acc: 0.1270\n",
      "Epoch 19/20\n",
      "1000/1000 [==============================] - 0s 10us/step - loss: 2.2841 - acc: 0.1330\n",
      "Epoch 20/20\n",
      "1000/1000 [==============================] - 0s 9us/step - loss: 2.2832 - acc: 0.1310\n"
     ]
    },
    {
     "data": {
      "text/plain": [
       "<keras.callbacks.History at 0x7fb10407e400>"
      ]
     },
     "execution_count": 7,
     "metadata": {},
     "output_type": "execute_result"
    }
   ],
   "source": [
    "model.fit(x_train, y_train, epochs=20, batch_size=128)"
   ]
  },
  {
   "cell_type": "markdown",
   "metadata": {},
   "source": [
    "4. Model evaluation"
   ]
  },
  {
   "cell_type": "code",
   "execution_count": 8,
   "metadata": {},
   "outputs": [
    {
     "name": "stdout",
     "output_type": "stream",
     "text": [
      "100/100 [==============================] - 0s 253us/step\n"
     ]
    }
   ],
   "source": [
    "score = model.evaluate(x_test, y_test, batch_size=128)"
   ]
  },
  {
   "cell_type": "markdown",
   "metadata": {},
   "source": [
    "Description of 'evaluate' from https://keras.io/models/model/\n",
    "> evaluate  \n",
    "> evaluate(x=None, y=None, batch_size=None, verbose=1, sample_weight=None, steps=None, callbacks=None)  \n",
    "> Returns the loss value & metrics values for the model in test mode.  \n",
    "> \n",
    "> Computation is done in batches.  "
   ]
  },
  {
   "cell_type": "code",
   "execution_count": 9,
   "metadata": {},
   "outputs": [
    {
     "name": "stdout",
     "output_type": "stream",
     "text": [
      "[2.275456190109253, 0.10999999940395355]\n"
     ]
    }
   ],
   "source": [
    "print(score)"
   ]
  },
  {
   "cell_type": "markdown",
   "metadata": {},
   "source": [
    "### 학습 예시\n",
    "위의 예에서는 데이터에 랜덤값을 사용해 규칙이 없으므로 학습이 바르게 되지 않음  \n",
    "데이터에 규칙을 주고 다시 학습해 보자"
   ]
  },
  {
   "cell_type": "code",
   "execution_count": 10,
   "metadata": {},
   "outputs": [],
   "source": [
    "# 값이 큰 곳의 index 를 클래스 라벨로 정해줌\n",
    "def f_x(xs):\n",
    "    i_max = -1\n",
    "    max_val = -100000\n",
    "    for i, x in enumerate(xs):\n",
    "        if x > max_val:\n",
    "            max_val = x\n",
    "            i_max = i\n",
    "    return i_max/2"
   ]
  },
  {
   "cell_type": "code",
   "execution_count": 11,
   "metadata": {},
   "outputs": [],
   "source": [
    "x_train = np.random.random((n_train_data, input_dim))\n",
    "y_train_temp = np.array( [ f_x(x) for x in x_train ] )\n",
    "y_train = keras.utils.to_categorical(y_train_temp, num_classes=10)\n",
    "x_test = np.random.random((n_test_data, input_dim))\n",
    "y_test_temp = np.array( [ f_x(x) for x in x_test ] )\n",
    "y_test = keras.utils.to_categorical(y_test_temp, num_classes=10)"
   ]
  },
  {
   "cell_type": "code",
   "execution_count": 12,
   "metadata": {},
   "outputs": [
    {
     "name": "stdout",
     "output_type": "stream",
     "text": [
      "Epoch 1/40\n",
      "1000/1000 [==============================] - 0s 77us/step - loss: 2.3229 - acc: 0.1020\n",
      "Epoch 2/40\n",
      "1000/1000 [==============================] - 0s 10us/step - loss: 2.3133 - acc: 0.1000\n",
      "Epoch 3/40\n",
      "1000/1000 [==============================] - 0s 9us/step - loss: 2.3056 - acc: 0.1080\n",
      "Epoch 4/40\n",
      "1000/1000 [==============================] - 0s 10us/step - loss: 2.2982 - acc: 0.1110\n",
      "Epoch 5/40\n",
      "1000/1000 [==============================] - 0s 10us/step - loss: 2.2921 - acc: 0.1310\n",
      "Epoch 6/40\n",
      "1000/1000 [==============================] - 0s 10us/step - loss: 2.2854 - acc: 0.1370\n",
      "Epoch 7/40\n",
      "1000/1000 [==============================] - 0s 42us/step - loss: 2.2787 - acc: 0.1430\n",
      "Epoch 8/40\n",
      "1000/1000 [==============================] - 0s 11us/step - loss: 2.2724 - acc: 0.1510\n",
      "Epoch 9/40\n",
      "1000/1000 [==============================] - 0s 9us/step - loss: 2.2653 - acc: 0.1600\n",
      "Epoch 10/40\n",
      "1000/1000 [==============================] - 0s 10us/step - loss: 2.2581 - acc: 0.1670\n",
      "Epoch 11/40\n",
      "1000/1000 [==============================] - 0s 9us/step - loss: 2.2509 - acc: 0.1680\n",
      "Epoch 12/40\n",
      "1000/1000 [==============================] - 0s 10us/step - loss: 2.2434 - acc: 0.1880\n",
      "Epoch 13/40\n",
      "1000/1000 [==============================] - 0s 10us/step - loss: 2.2363 - acc: 0.1870\n",
      "Epoch 14/40\n",
      "1000/1000 [==============================] - 0s 12us/step - loss: 2.2291 - acc: 0.1900\n",
      "Epoch 15/40\n",
      "1000/1000 [==============================] - 0s 11us/step - loss: 2.2211 - acc: 0.1940\n",
      "Epoch 16/40\n",
      "1000/1000 [==============================] - 0s 13us/step - loss: 2.2142 - acc: 0.1950\n",
      "Epoch 17/40\n",
      "1000/1000 [==============================] - 0s 10us/step - loss: 2.2060 - acc: 0.2060\n",
      "Epoch 18/40\n",
      "1000/1000 [==============================] - 0s 10us/step - loss: 2.1985 - acc: 0.2130\n",
      "Epoch 19/40\n",
      "1000/1000 [==============================] - 0s 10us/step - loss: 2.1903 - acc: 0.2260\n",
      "Epoch 20/40\n",
      "1000/1000 [==============================] - 0s 36us/step - loss: 2.1816 - acc: 0.2290\n",
      "Epoch 21/40\n",
      "1000/1000 [==============================] - 0s 10us/step - loss: 2.1731 - acc: 0.2370\n",
      "Epoch 22/40\n",
      "1000/1000 [==============================] - 0s 12us/step - loss: 2.1635 - acc: 0.2390\n",
      "Epoch 23/40\n",
      "1000/1000 [==============================] - 0s 10us/step - loss: 2.1552 - acc: 0.2460\n",
      "Epoch 24/40\n",
      "1000/1000 [==============================] - 0s 10us/step - loss: 2.1462 - acc: 0.2510\n",
      "Epoch 25/40\n",
      "1000/1000 [==============================] - 0s 10us/step - loss: 2.1388 - acc: 0.2500\n",
      "Epoch 26/40\n",
      "1000/1000 [==============================] - 0s 41us/step - loss: 2.1300 - acc: 0.2640\n",
      "Epoch 27/40\n",
      "1000/1000 [==============================] - 0s 9us/step - loss: 2.1225 - acc: 0.2630\n",
      "Epoch 28/40\n",
      "1000/1000 [==============================] - 0s 8us/step - loss: 2.1137 - acc: 0.2760\n",
      "Epoch 29/40\n",
      "1000/1000 [==============================] - 0s 8us/step - loss: 2.1064 - acc: 0.2750\n",
      "Epoch 30/40\n",
      "1000/1000 [==============================] - 0s 8us/step - loss: 2.0979 - acc: 0.2840\n",
      "Epoch 31/40\n",
      "1000/1000 [==============================] - 0s 9us/step - loss: 2.0896 - acc: 0.2890\n",
      "Epoch 32/40\n",
      "1000/1000 [==============================] - 0s 50us/step - loss: 2.0826 - acc: 0.2970\n",
      "Epoch 33/40\n",
      "1000/1000 [==============================] - 0s 9us/step - loss: 2.0742 - acc: 0.2940\n",
      "Epoch 34/40\n",
      "1000/1000 [==============================] - 0s 8us/step - loss: 2.0662 - acc: 0.2990\n",
      "Epoch 35/40\n",
      "1000/1000 [==============================] - 0s 9us/step - loss: 2.0586 - acc: 0.3060\n",
      "Epoch 36/40\n",
      "1000/1000 [==============================] - 0s 8us/step - loss: 2.0515 - acc: 0.3090\n",
      "Epoch 37/40\n",
      "1000/1000 [==============================] - 0s 9us/step - loss: 2.0433 - acc: 0.3130\n",
      "Epoch 38/40\n",
      "1000/1000 [==============================] - 0s 52us/step - loss: 2.0358 - acc: 0.3160\n",
      "Epoch 39/40\n",
      "1000/1000 [==============================] - 0s 11us/step - loss: 2.0286 - acc: 0.3220\n",
      "Epoch 40/40\n",
      "1000/1000 [==============================] - 0s 11us/step - loss: 2.0206 - acc: 0.3230\n"
     ]
    },
    {
     "data": {
      "text/plain": [
       "<keras.callbacks.History at 0x7fb0d45ce4e0>"
      ]
     },
     "execution_count": 12,
     "metadata": {},
     "output_type": "execute_result"
    }
   ],
   "source": [
    "model.fit(x_train, y_train, epochs=40, batch_size=128)"
   ]
  },
  {
   "cell_type": "code",
   "execution_count": 13,
   "metadata": {},
   "outputs": [
    {
     "name": "stdout",
     "output_type": "stream",
     "text": [
      "100/100 [==============================] - 0s 66us/step\n",
      "[2.0370583534240723, 0.33000001311302185]\n"
     ]
    }
   ],
   "source": [
    "score = model.evaluate(x_test, y_test, batch_size=128)\n",
    "print(score)"
   ]
  },
  {
   "cell_type": "markdown",
   "metadata": {},
   "source": [
    "[Go Back](../NLP_intro.ipynb)"
   ]
  },
  {
   "cell_type": "code",
   "execution_count": null,
   "metadata": {},
   "outputs": [],
   "source": []
  }
 ],
 "metadata": {
  "kernelspec": {
   "display_name": "Python 3",
   "language": "python",
   "name": "python3"
  },
  "language_info": {
   "codemirror_mode": {
    "name": "ipython",
    "version": 3
   },
   "file_extension": ".py",
   "mimetype": "text/x-python",
   "name": "python",
   "nbconvert_exporter": "python",
   "pygments_lexer": "ipython3",
   "version": "3.7.1"
  }
 },
 "nbformat": 4,
 "nbformat_minor": 2
}
