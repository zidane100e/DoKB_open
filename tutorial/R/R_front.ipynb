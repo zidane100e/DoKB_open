{
 "cells": [
  {
   "cell_type": "markdown",
   "metadata": {},
   "source": [
    "# __R 데이터분석 실습 환경__\n",
    "\n",
    "<img src=\"r_test.gif\" height=\"400\" width=\"400\" align=\"left\"/>\n",
    "<img src=\"open.gif\" height=\"400\" width=\"400\" align=\"center\"/>"
   ]
  },
  {
   "cell_type": "code",
   "execution_count": null,
   "metadata": {},
   "outputs": [],
   "source": [
    "# cell에 코드 작성 후 Shift+Enter 누르면 실행 \n",
    "\n"
   ]
  },
  {
   "cell_type": "markdown",
   "metadata": {},
   "source": [
    "## __R tutorial__\n",
    "\n",
    "### &nbsp; &nbsp; &nbsp; &nbsp;  1. [R 시작하기](R_tutorial1.ipynb)\n",
    "\n",
    "### &nbsp; &nbsp; &nbsp; &nbsp;  2. [데이터 타입](R_tutorial2.ipynb)\n",
    "\n",
    "### &nbsp; &nbsp; &nbsp; &nbsp;  3. [데이터 분석 소개](R_tutorial3.ipynb)\n",
    "\n",
    "### &nbsp; &nbsp; &nbsp; &nbsp;  4. [함수](R_tutorial4.ipynb)"
   ]
  }
 ],
 "metadata": {
  "kernelspec": {
   "display_name": "R",
   "language": "R",
   "name": "ir"
  },
  "language_info": {
   "codemirror_mode": "r",
   "file_extension": ".r",
   "mimetype": "text/x-r-source",
   "name": "R",
   "pygments_lexer": "r",
   "version": "3.4.1"
  }
 },
 "nbformat": 4,
 "nbformat_minor": 2
}
