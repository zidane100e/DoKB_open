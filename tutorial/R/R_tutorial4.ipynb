{
 "cells": [
  {
   "cell_type": "markdown",
   "metadata": {
    "nbgrader": {
     "grade": false,
     "grade_id": "cell-fa49621e336fbb07",
     "locked": true,
     "schema_version": 1,
     "solution": false
    }
   },
   "source": [
    "# __함수 사용__\n",
    "<br>\n",
    "\n",
    "### Table of contents\n",
    "1. [함수 기본](#r4section1)\n",
    "2. [Map](#r4section2)\n",
    "3. [조건문](#r4section3)\n",
    "    * [if](#r4section31)\n",
    "    * [switch](#r4section32)\n",
    "4. [순환문](#r4section4)\n",
    "    * [for](#r4section41)\n",
    "    * [repeat](#r4section42)\n",
    "    * [while](#r4section43)\n",
    "    \n",
    "<br>\n",
    "특정 기능을 하는 로직들이 자주 필요하면 함수를 선언하고,  \n",
    "함수 내부에 로직들을 적으면 함수 이름만 적으면 해당 기능들을 적용할 수 있습니다."
   ]
  },
  {
   "cell_type": "markdown",
   "metadata": {
    "nbgrader": {
     "grade": false,
     "grade_id": "cell-fa49621e336fbb07",
     "locked": true,
     "schema_version": 1,
     "solution": false
    }
   },
   "source": [
    "<br>\n",
    "\n",
    "## __함수 기본__ <a name=\"r4section1\"></a>"
   ]
  },
  {
   "cell_type": "code",
   "execution_count": 1,
   "metadata": {
    "nbgrader": {
     "grade": false,
     "grade_id": "cell-fa49621e336fbb07",
     "locked": true,
     "schema_version": 1,
     "solution": false
    }
   },
   "outputs": [
    {
     "name": "stdout",
     "output_type": "stream",
     "text": [
      "f1 =  14 \n"
     ]
    }
   ],
   "source": [
    "f1 <- function(x, y){\n",
    "    z = x+y\n",
    "    z = z*2 # 마지막 값을 반환\n",
    "}\n",
    "cat('f1 = ', f1(3,4), '\\n' )"
   ]
  },
  {
   "cell_type": "code",
   "execution_count": 2,
   "metadata": {
    "nbgrader": {
     "grade": false,
     "grade_id": "cell-fa49621e336fbb07",
     "locked": true,
     "schema_version": 1,
     "solution": false
    }
   },
   "outputs": [
    {
     "name": "stdout",
     "output_type": "stream",
     "text": [
      "[1] 8\n"
     ]
    }
   ],
   "source": [
    "# parameter 의 이름으로 호출 가능합니다.\n",
    "print( f1(y=1, x=3) )"
   ]
  },
  {
   "cell_type": "code",
   "execution_count": 3,
   "metadata": {
    "nbgrader": {
     "grade": false,
     "grade_id": "cell-fa49621e336fbb07",
     "locked": true,
     "schema_version": 1,
     "solution": false
    }
   },
   "outputs": [
    {
     "name": "stdout",
     "output_type": "stream",
     "text": [
      "f2 default =  26 \n",
      "f2 override =  30 \n"
     ]
    }
   ],
   "source": [
    "# 값을 입력하지 않아도 기본값이 설정되도록 할 수 있습니다.\n",
    "f2 <- function(x, y=10){\n",
    "    z = x+y\n",
    "    z = z*2 # 마지막 값을 반환\n",
    "}\n",
    "cat('f2 default = ', f2(3), '\\n' ) # y=10으로 설정 \n",
    "cat('f2 override = ', f2(3, 12), '\\n' ) # y 값을 지정하면 해당 값으로 결정"
   ]
  },
  {
   "cell_type": "code",
   "execution_count": 4,
   "metadata": {
    "nbgrader": {
     "grade": false,
     "grade_id": "cell-fa49621e336fbb07",
     "locked": true,
     "schema_version": 1,
     "solution": false
    }
   },
   "outputs": [
    {
     "name": "stdout",
     "output_type": "stream",
     "text": [
      "f3 = \n",
      "[1] 10\n",
      "[1] 16\n"
     ]
    }
   ],
   "source": [
    "# 함수 parameter 개수를 잘 모를 때는 ... 로 parameter 를 넣습니다.\n",
    "f3 <- function(x, ...){\n",
    "    print(x);\n",
    "    print( f2(...) )\n",
    "}\n",
    "cat('f3 = \\n')\n",
    "f3(10, 3, 5)\n",
    "# 차례 대로 아래 구문 수행\n",
    "# print 10\n",
    "# print (3+5)*2"
   ]
  },
  {
   "cell_type": "markdown",
   "metadata": {
    "nbgrader": {
     "grade": false,
     "grade_id": "cell-fa49621e336fbb07",
     "locked": true,
     "schema_version": 1,
     "solution": false
    }
   },
   "source": [
    "<br>\n",
    "\n",
    "## __Map__ <a name=\"r4section2\"></a>\n",
    "함수가 한 개의 입력 데이터에 대해 특정 기능을 적용하는 것이라면,  \n",
    "여러 개의 입력에 대해 개별적으로 함수를 적용하는 것을 map 이라 합니다.  \n",
    "> Hadoop MapReduce 는 특정 함수를 여러 노드(컴퓨터)에 대해 적용하는 것입니다."
   ]
  },
  {
   "cell_type": "code",
   "execution_count": 5,
   "metadata": {
    "nbgrader": {
     "grade": false,
     "grade_id": "cell-fa49621e336fbb07",
     "locked": true,
     "schema_version": 1,
     "solution": false
    }
   },
   "outputs": [
    {
     "data": {
      "text/html": [
       "<ol class=list-inline>\n",
       "\t<li>1</li>\n",
       "\t<li>1.4142135623731</li>\n",
       "\t<li>1.73205080756888</li>\n",
       "\t<li>2</li>\n",
       "\t<li>2.23606797749979</li>\n",
       "\t<li>2.44948974278318</li>\n",
       "\t<li>2.64575131106459</li>\n",
       "\t<li>2.82842712474619</li>\n",
       "\t<li>3</li>\n",
       "\t<li>3.16227766016838</li>\n",
       "</ol>\n"
      ],
      "text/latex": [
       "\\begin{enumerate*}\n",
       "\\item 1\n",
       "\\item 1.4142135623731\n",
       "\\item 1.73205080756888\n",
       "\\item 2\n",
       "\\item 2.23606797749979\n",
       "\\item 2.44948974278318\n",
       "\\item 2.64575131106459\n",
       "\\item 2.82842712474619\n",
       "\\item 3\n",
       "\\item 3.16227766016838\n",
       "\\end{enumerate*}\n"
      ],
      "text/markdown": [
       "1. 1\n",
       "2. 1.4142135623731\n",
       "3. 1.73205080756888\n",
       "4. 2\n",
       "5. 2.23606797749979\n",
       "6. 2.44948974278318\n",
       "7. 2.64575131106459\n",
       "8. 2.82842712474619\n",
       "9. 3\n",
       "10. 3.16227766016838\n",
       "\n",
       "\n"
      ],
      "text/plain": [
       " [1] 1.000000 1.414214 1.732051 2.000000 2.236068 2.449490 2.645751 2.828427\n",
       " [9] 3.000000 3.162278"
      ]
     },
     "metadata": {},
     "output_type": "display_data"
    }
   ],
   "source": [
    "xs <- 1:10\n",
    "sapply(xs, sqrt)"
   ]
  },
  {
   "cell_type": "code",
   "execution_count": 6,
   "metadata": {
    "nbgrader": {
     "grade": false,
     "grade_id": "cell-fa49621e336fbb07",
     "locked": true,
     "schema_version": 1,
     "solution": false
    }
   },
   "outputs": [
    {
     "data": {
      "text/html": [
       "<ol class=list-inline>\n",
       "\t<li>11</li>\n",
       "\t<li>12</li>\n",
       "\t<li>13</li>\n",
       "\t<li>14</li>\n",
       "\t<li>15</li>\n",
       "\t<li>16</li>\n",
       "\t<li>17</li>\n",
       "\t<li>18</li>\n",
       "\t<li>19</li>\n",
       "\t<li>20</li>\n",
       "</ol>\n"
      ],
      "text/latex": [
       "\\begin{enumerate*}\n",
       "\\item 11\n",
       "\\item 12\n",
       "\\item 13\n",
       "\\item 14\n",
       "\\item 15\n",
       "\\item 16\n",
       "\\item 17\n",
       "\\item 18\n",
       "\\item 19\n",
       "\\item 20\n",
       "\\end{enumerate*}\n"
      ],
      "text/markdown": [
       "1. 11\n",
       "2. 12\n",
       "3. 13\n",
       "4. 14\n",
       "5. 15\n",
       "6. 16\n",
       "7. 17\n",
       "8. 18\n",
       "9. 19\n",
       "10. 20\n",
       "\n",
       "\n"
      ],
      "text/plain": [
       " [1] 11 12 13 14 15 16 17 18 19 20"
      ]
     },
     "metadata": {},
     "output_type": "display_data"
    }
   ],
   "source": [
    "# 개인이 작성한 함수도 동일하게 적용합니다\n",
    "f1 <- function(x){ x + 10 }\n",
    "sapply(xs, f1)"
   ]
  },
  {
   "cell_type": "code",
   "execution_count": 7,
   "metadata": {
    "nbgrader": {
     "grade": false,
     "grade_id": "cell-fa49621e336fbb07",
     "locked": true,
     "schema_version": 1,
     "solution": false
    }
   },
   "outputs": [
    {
     "data": {
      "text/html": [
       "<ol class=list-inline>\n",
       "\t<li>6</li>\n",
       "\t<li>7</li>\n",
       "\t<li>8</li>\n",
       "\t<li>9</li>\n",
       "\t<li>10</li>\n",
       "\t<li>11</li>\n",
       "\t<li>12</li>\n",
       "\t<li>13</li>\n",
       "\t<li>14</li>\n",
       "\t<li>15</li>\n",
       "</ol>\n"
      ],
      "text/latex": [
       "\\begin{enumerate*}\n",
       "\\item 6\n",
       "\\item 7\n",
       "\\item 8\n",
       "\\item 9\n",
       "\\item 10\n",
       "\\item 11\n",
       "\\item 12\n",
       "\\item 13\n",
       "\\item 14\n",
       "\\item 15\n",
       "\\end{enumerate*}\n"
      ],
      "text/markdown": [
       "1. 6\n",
       "2. 7\n",
       "3. 8\n",
       "4. 9\n",
       "5. 10\n",
       "6. 11\n",
       "7. 12\n",
       "8. 13\n",
       "9. 14\n",
       "10. 15\n",
       "\n",
       "\n"
      ],
      "text/plain": [
       " [1]  6  7  8  9 10 11 12 13 14 15"
      ]
     },
     "metadata": {},
     "output_type": "display_data"
    }
   ],
   "source": [
    "# 간단한 함수의 경우 map 수행 시 함수를 직접적으로 작성할 수 있습니다.\n",
    "sapply(xs, function(x){ x + 5})"
   ]
  },
  {
   "cell_type": "code",
   "execution_count": 8,
   "metadata": {
    "nbgrader": {
     "grade": false,
     "grade_id": "cell-fa49621e336fbb07",
     "locked": true,
     "schema_version": 1,
     "solution": false
    }
   },
   "outputs": [
    {
     "data": {
      "text/html": [
       "<pre class=language-r><code>function (x) \n",
       "NULL</code></pre>"
      ],
      "text/latex": [
       "\\begin{minted}{r}\n",
       "function (x) \n",
       "NULL\n",
       "\\end{minted}"
      ],
      "text/markdown": [
       "```r\n",
       "function (x) \n",
       "NULL\n",
       "```"
      ],
      "text/plain": [
       "function (x) \n",
       "NULL"
      ]
     },
     "metadata": {},
     "output_type": "display_data"
    },
    {
     "data": {
      "text/html": [
       "<pre class=language-r><code>function (formula, data, subset, weights, na.action, method = \"qr\", \n",
       "<span style=white-space:pre-wrap>    model = TRUE, x = FALSE, y = FALSE, qr = TRUE, singular.ok = TRUE, </span>\n",
       "<span style=white-space:pre-wrap>    contrasts = NULL, offset, ...) </span>\n",
       "NULL</code></pre>"
      ],
      "text/latex": [
       "\\begin{minted}{r}\n",
       "function (formula, data, subset, weights, na.action, method = \"qr\", \n",
       "    model = TRUE, x = FALSE, y = FALSE, qr = TRUE, singular.ok = TRUE, \n",
       "    contrasts = NULL, offset, ...) \n",
       "NULL\n",
       "\\end{minted}"
      ],
      "text/markdown": [
       "```r\n",
       "function (formula, data, subset, weights, na.action, method = \"qr\", \n",
       "    model = TRUE, x = FALSE, y = FALSE, qr = TRUE, singular.ok = TRUE, \n",
       "    contrasts = NULL, offset, ...) \n",
       "NULL\n",
       "```"
      ],
      "text/plain": [
       "function (formula, data, subset, weights, na.action, method = \"qr\", \n",
       "    model = TRUE, x = FALSE, y = FALSE, qr = TRUE, singular.ok = TRUE, \n",
       "    contrasts = NULL, offset, ...) \n",
       "NULL"
      ]
     },
     "metadata": {},
     "output_type": "display_data"
    }
   ],
   "source": [
    "# 함수의 parameter(argument) 를 확인 가능합니다.\n",
    "args(f1)\n",
    "args(lm)"
   ]
  },
  {
   "cell_type": "markdown",
   "metadata": {
    "nbgrader": {
     "grade": false,
     "grade_id": "cell-fa49621e336fbb07",
     "locked": true,
     "schema_version": 1,
     "solution": false
    }
   },
   "source": [
    "<br>\n",
    "\n",
    "## __조건문__ <a name=\"r4section3\"></a>"
   ]
  },
  {
   "cell_type": "markdown",
   "metadata": {
    "nbgrader": {
     "grade": false,
     "grade_id": "cell-fa49621e336fbb07",
     "locked": true,
     "schema_version": 1,
     "solution": false
    }
   },
   "source": [
    "### __if__ <a name=\"r4section31\"></a>"
   ]
  },
  {
   "cell_type": "code",
   "execution_count": 9,
   "metadata": {
    "nbgrader": {
     "grade": false,
     "grade_id": "cell-fa49621e336fbb07",
     "locked": true,
     "schema_version": 1,
     "solution": false
    }
   },
   "outputs": [
    {
     "name": "stdout",
     "output_type": "stream",
     "text": [
      "[1] \"small\"\n",
      "[1] \"big\"\n",
      "[1] \"too big\"\n"
     ]
    }
   ],
   "source": [
    "f2 <- function(x){\n",
    "    if (x>10 && x <=20) # && 은 and 조건\n",
    "        print('big')\n",
    "    else if (x>20) # else if 첫 번째 조건이 아닌 것 중 새로운 조건\n",
    "        print('too big')\n",
    "    else # 위의 조건들이 아닌 경우\n",
    "        print('small')      \n",
    "}\n",
    "f2(5)\n",
    "f2(11)\n",
    "f2(21)"
   ]
  },
  {
   "cell_type": "code",
   "execution_count": 10,
   "metadata": {
    "nbgrader": {
     "grade": false,
     "grade_id": "cell-fa49621e336fbb07",
     "locked": true,
     "schema_version": 1,
     "solution": false
    }
   },
   "outputs": [
    {
     "name": "stdout",
     "output_type": "stream",
     "text": [
      "[1] \"smaller\"\n"
     ]
    }
   ],
   "source": [
    "# 조건 문만 사용한 구문 작성 가능\n",
    "a <- 3\n",
    "if(a>3) print('bigger') else print('smaller')"
   ]
  },
  {
   "cell_type": "code",
   "execution_count": 11,
   "metadata": {
    "nbgrader": {
     "grade": false,
     "grade_id": "cell-fa49621e336fbb07",
     "locked": true,
     "schema_version": 1,
     "solution": false
    }
   },
   "outputs": [
    {
     "name": "stdout",
     "output_type": "stream",
     "text": [
      "[1] \"positive\"\n"
     ]
    }
   ],
   "source": [
    "# 조건에 대해 변수 입력 등도 가능\n",
    "if(a>0) c<-'positive' else c<-'negative'\n",
    "print(c)"
   ]
  },
  {
   "cell_type": "markdown",
   "metadata": {
    "nbgrader": {
     "grade": false,
     "grade_id": "cell-fa49621e336fbb07",
     "locked": true,
     "schema_version": 1,
     "solution": false
    }
   },
   "source": [
    "조건문 등을 작성하다 보면 참인지 거짓인지 확인할 필요가 생깁니다.  \n",
    "참과 거짓은 TRUE 와 FALSE 로 정의되어 있습니다."
   ]
  },
  {
   "cell_type": "code",
   "execution_count": 12,
   "metadata": {
    "nbgrader": {
     "grade": false,
     "grade_id": "cell-fa49621e336fbb07",
     "locked": true,
     "schema_version": 1,
     "solution": false
    }
   },
   "outputs": [
    {
     "data": {
      "text/html": [
       "TRUE"
      ],
      "text/latex": [
       "TRUE"
      ],
      "text/markdown": [
       "TRUE"
      ],
      "text/plain": [
       "[1] TRUE"
      ]
     },
     "metadata": {},
     "output_type": "display_data"
    },
    {
     "data": {
      "text/html": [
       "FALSE"
      ],
      "text/latex": [
       "FALSE"
      ],
      "text/markdown": [
       "FALSE"
      ],
      "text/plain": [
       "[1] FALSE"
      ]
     },
     "metadata": {},
     "output_type": "display_data"
    },
    {
     "name": "stdout",
     "output_type": "stream",
     "text": [
      "[1] \"print\"\n"
     ]
    }
   ],
   "source": [
    "1 == 1\n",
    "1 == 0\n",
    "if (TRUE) print(\"print\")\n",
    "if (FALSE) print(\"no print\") # 출력되지 않음"
   ]
  },
  {
   "cell_type": "markdown",
   "metadata": {
    "nbgrader": {
     "grade": false,
     "grade_id": "cell-fa49621e336fbb07",
     "locked": true,
     "schema_version": 1,
     "solution": false
    }
   },
   "source": [
    "### __switch__ <a name=\"r4section32\"></a>\n",
    "특정 조건에 대해 특정 값을 할당하는 경우 조건이 많아 지면 switch 가 더 간단합니다."
   ]
  },
  {
   "cell_type": "code",
   "execution_count": 13,
   "metadata": {
    "nbgrader": {
     "grade": false,
     "grade_id": "cell-fa49621e336fbb07",
     "locked": true,
     "schema_version": 1,
     "solution": false
    }
   },
   "outputs": [
    {
     "name": "stdout",
     "output_type": "stream",
     "text": [
      "[1] \"cat\"\n"
     ]
    }
   ],
   "source": [
    "pet <- function(x){\n",
    "    switch(x,\n",
    "          c='cat',\n",
    "          d='dog',\n",
    "          g='goat',\n",
    "          p='parrot')\n",
    "}\n",
    "print( pet('c') )"
   ]
  },
  {
   "cell_type": "markdown",
   "metadata": {
    "nbgrader": {
     "grade": false,
     "grade_id": "cell-fa49621e336fbb07",
     "locked": true,
     "schema_version": 1,
     "solution": false
    }
   },
   "source": [
    "<br>\n",
    "\n",
    "## __순환문__ <a name=\"r4section4\"></a>\n",
    "유사한 여러 함수가 있으면 구현 방식은 조금씩 다르지만 유사한 기능의 수행이 가능하다.  \n",
    "필요한 상황에 따라 보기 좋은 함수를 택하는 것이 일반적이다."
   ]
  },
  {
   "cell_type": "markdown",
   "metadata": {
    "nbgrader": {
     "grade": false,
     "grade_id": "cell-fa49621e336fbb07",
     "locked": true,
     "schema_version": 1,
     "solution": false
    }
   },
   "source": [
    "## __for__ <a name=\"r4section41\"></a>"
   ]
  },
  {
   "cell_type": "code",
   "execution_count": 14,
   "metadata": {
    "nbgrader": {
     "grade": false,
     "grade_id": "cell-fa49621e336fbb07",
     "locked": true,
     "schema_version": 1,
     "solution": false
    }
   },
   "outputs": [
    {
     "name": "stdout",
     "output_type": "stream",
     "text": [
      "[1] \"i = 5\"\n",
      "[1] \"i*2 = 10\"\n",
      "[1] \"i = 15\"\n",
      "[1] \"i*2 = 30\"\n",
      "[1] \"i = 25\"\n",
      "[1] \"i*2 = 50\"\n"
     ]
    }
   ],
   "source": [
    "for ( i in seq(from=5, to=25, by=10)) {\n",
    "    print(sprintf('i = %d', i))\n",
    "    print(sprintf('i*2 = %d', i*2))\n",
    "}"
   ]
  },
  {
   "cell_type": "markdown",
   "metadata": {
    "nbgrader": {
     "grade": false,
     "grade_id": "cell-fa49621e336fbb07",
     "locked": true,
     "schema_version": 1,
     "solution": false
    }
   },
   "source": [
    "## __repeat__ <a name=\"r4section42\"></a>"
   ]
  },
  {
   "cell_type": "code",
   "execution_count": 15,
   "metadata": {
    "nbgrader": {
     "grade": false,
     "grade_id": "cell-fa49621e336fbb07",
     "locked": true,
     "schema_version": 1,
     "solution": false
    }
   },
   "outputs": [
    {
     "name": "stdout",
     "output_type": "stream",
     "text": [
      "[1] 5\n",
      "[1] 10\n",
      "[1] 15\n",
      "[1] 20\n",
      "[1] 25\n"
     ]
    }
   ],
   "source": [
    "i <- 5\n",
    "repeat { if (i>25) break else {print(i); i<-i+5;}}\n",
    "# 위의 작업을 반복하며\n",
    "# i>25 인 경우 중단\n",
    "# i>25 만족하지 않는 경우 print 및 값을 5 증가 (i <- i+5)"
   ]
  },
  {
   "cell_type": "markdown",
   "metadata": {
    "nbgrader": {
     "grade": false,
     "grade_id": "cell-fa49621e336fbb07",
     "locked": true,
     "schema_version": 1,
     "solution": false
    }
   },
   "source": [
    "## __while__ <a name=\"r4section43\"></a>"
   ]
  },
  {
   "cell_type": "code",
   "execution_count": 16,
   "metadata": {
    "nbgrader": {
     "grade": false,
     "grade_id": "cell-fa49621e336fbb07",
     "locked": true,
     "schema_version": 1,
     "solution": false
    }
   },
   "outputs": [
    {
     "name": "stdout",
     "output_type": "stream",
     "text": [
      "[1] 5\n",
      "[1] 10\n",
      "[1] 15\n",
      "[1] 20\n",
      "[1] 25\n"
     ]
    }
   ],
   "source": [
    "# repeat 와 동일한 작업을 while 을 통해 구현\n",
    "i<-5\n",
    "while(i<=25) { print(i); i<-i+5 }"
   ]
  },
  {
   "cell_type": "markdown",
   "metadata": {},
   "source": [
    "<br><br>\n",
    "\n",
    "---\n",
    "##### [이전 페이지](R_tutorial3.ipynb)\n",
    "##### [다음 페이지(처음)](R_front.ipynb)"
   ]
  },
  {
   "cell_type": "code",
   "execution_count": null,
   "metadata": {},
   "outputs": [],
   "source": []
  }
 ],
 "metadata": {
  "celltoolbar": "Create Assignment",
  "kernelspec": {
   "display_name": "R",
   "language": "R",
   "name": "ir"
  },
  "language_info": {
   "codemirror_mode": "r",
   "file_extension": ".r",
   "mimetype": "text/x-r-source",
   "name": "R",
   "pygments_lexer": "r",
   "version": "3.4.1"
  }
 },
 "nbformat": 4,
 "nbformat_minor": 2
}
