{
 "cells": [
  {
   "cell_type": "markdown",
   "metadata": {
    "nbgrader": {
     "grade": false,
     "grade_id": "cell-fa49621e336fbb07",
     "locked": true,
     "schema_version": 1,
     "solution": false
    }
   },
   "source": [
    "# __R 시작하기__\n",
    "<br>\n",
    "\n",
    "### Table of contents\n",
    "1. [계산기](#r1section1)\n",
    "2. [벡터](#r1section2)\n",
    "3. [변수](#r1section3)\n",
    "4. [문자열](#r1section4)\n",
    "5. [수학 함수](#r1section5)\n",
    "6. [Help](#r1section6)\n",
    "    \n",
    "<br>\n",
    "\n",
    "\n",
    "변수들의 값을 화면에 출력하는 것은 print 함수를 이용해 가능합니다.  \n",
    "아래 화면에 print(\"Hello world\")를 입력하고 실행해 보세요."
   ]
  },
  {
   "cell_type": "code",
   "execution_count": 2,
   "metadata": {
    "nbgrader": {
     "grade": false,
     "grade_id": "cell-fa49621e336fbb07",
     "locked": true,
     "schema_version": 1,
     "solution": false
    }
   },
   "outputs": [
    {
     "name": "stdout",
     "output_type": "stream",
     "text": [
      "[1] \"Hello world\"\n"
     ]
    }
   ],
   "source": [
    "print(\"Hello world\")"
   ]
  },
  {
   "cell_type": "markdown",
   "metadata": {},
   "source": [
    "<br>\n",
    "\n",
    "## __계산기__ <a name=\"r1section1\"></a>\n",
    "R을 계산기로도 사용 가능합니다"
   ]
  },
  {
   "cell_type": "code",
   "execution_count": 4,
   "metadata": {
    "nbgrader": {
     "grade": true,
     "grade_id": "correct_squares",
     "locked": false,
     "points": 1,
     "schema_version": 1,
     "solution": false
    }
   },
   "outputs": [],
   "source": [
    "1+2\n",
    "1*3"
   ]
  },
  {
   "cell_type": "code",
   "execution_count": 4,
   "metadata": {
    "nbgrader": {
     "grade": true,
     "grade_id": "correct_squares",
     "locked": false,
     "points": 1,
     "schema_version": 1,
     "solution": false
    }
   },
   "outputs": [],
   "source": [
    "pi\n",
    "sin(pi) # 코멘트 : '#' 뒤의 말들은 실행되지 않습니다"
   ]
  },
  {
   "cell_type": "code",
   "execution_count": 4,
   "metadata": {
    "nbgrader": {
     "grade": true,
     "grade_id": "correct_squares",
     "locked": false,
     "points": 1,
     "schema_version": 1,
     "solution": false
    }
   },
   "outputs": [],
   "source": [
    "3^2 # 제곱\n",
    "4/3"
   ]
  },
  {
   "cell_type": "code",
   "execution_count": 4,
   "metadata": {
    "nbgrader": {
     "grade": true,
     "grade_id": "correct_squares",
     "locked": false,
     "points": 1,
     "schema_version": 1,
     "solution": false
    }
   },
   "outputs": [
    {
     "data": {
      "text/html": [
       "3"
      ],
      "text/latex": [
       "3"
      ],
      "text/markdown": [
       "3"
      ],
      "text/plain": [
       "[1] 3"
      ]
     },
     "metadata": {},
     "output_type": "display_data"
    },
    {
     "data": {
      "text/html": [
       "3"
      ],
      "text/latex": [
       "3"
      ],
      "text/markdown": [
       "3"
      ],
      "text/plain": [
       "[1] 3"
      ]
     },
     "metadata": {},
     "output_type": "display_data"
    },
    {
     "data": {
      "text/html": [
       "3.14159265358979"
      ],
      "text/latex": [
       "3.14159265358979"
      ],
      "text/markdown": [
       "3.14159265358979"
      ],
      "text/plain": [
       "[1] 3.141593"
      ]
     },
     "metadata": {},
     "output_type": "display_data"
    },
    {
     "data": {
      "text/html": [
       "1.22464679914735e-16"
      ],
      "text/latex": [
       "1.22464679914735e-16"
      ],
      "text/markdown": [
       "1.22464679914735e-16"
      ],
      "text/plain": [
       "[1] 1.224647e-16"
      ]
     },
     "metadata": {},
     "output_type": "display_data"
    },
    {
     "data": {
      "text/html": [
       "9"
      ],
      "text/latex": [
       "9"
      ],
      "text/markdown": [
       "9"
      ],
      "text/plain": [
       "[1] 9"
      ]
     },
     "metadata": {},
     "output_type": "display_data"
    },
    {
     "data": {
      "text/html": [
       "1.33333333333333"
      ],
      "text/latex": [
       "1.33333333333333"
      ],
      "text/markdown": [
       "1.33333333333333"
      ],
      "text/plain": [
       "[1] 1.333333"
      ]
     },
     "metadata": {},
     "output_type": "display_data"
    },
    {
     "data": {
      "text/html": [
       "1"
      ],
      "text/latex": [
       "1"
      ],
      "text/markdown": [
       "1"
      ],
      "text/plain": [
       "[1] 1"
      ]
     },
     "metadata": {},
     "output_type": "display_data"
    },
    {
     "data": {
      "text/html": [
       "1"
      ],
      "text/latex": [
       "1"
      ],
      "text/markdown": [
       "1"
      ],
      "text/plain": [
       "[1] 1"
      ]
     },
     "metadata": {},
     "output_type": "display_data"
    }
   ],
   "source": [
    "4%%3 # 나눗셈의 나머지 x == (x %% y) + y * ( x %/% y )\n",
    "4 %/% 3 # 나눗셈의 정수 결과"
   ]
  },
  {
   "cell_type": "markdown",
   "metadata": {},
   "source": [
    "<br>\n",
    "\n",
    "## __벡터__ <a name=\"r1section2\"></a>\n",
    "c(x1, x2, ...) 함수를 이용해 여러 개의 값의 묶음을 표현합니다.  \n",
    "숫자 범위의 경우 :(sequence) 를 사용하면 됩니다.  \n",
    "R 에서는 벡터간 편리한 연산을 제공합니다. "
   ]
  },
  {
   "cell_type": "code",
   "execution_count": 15,
   "metadata": {},
   "outputs": [],
   "source": [
    "print(c(1, 3, 5, 3, 5))\n",
    "print(1:10)"
   ]
  },
  {
   "cell_type": "code",
   "execution_count": 15,
   "metadata": {},
   "outputs": [],
   "source": [
    "print( c(1,2,3,4) + c(3,4,5,6) )\n",
    "print( c(1,2,3,4) * c(3,4,5,6) )"
   ]
  },
  {
   "cell_type": "code",
   "execution_count": 15,
   "metadata": {},
   "outputs": [
    {
     "name": "stdout",
     "output_type": "stream",
     "text": [
      "[1] 1 3 5 3 5\n",
      " [1]  1  2  3  4  5  6  7  8  9 10\n",
      "[1]  4  6  8 10\n",
      "[1]  3  8 15 24\n",
      "[1]  4  8 12 16\n",
      " [1]  4  8 12 16 20 24 28 32 36 40\n",
      "[1] 4 6 6 8\n",
      "[1] \"a\"    \"bvf\"  \"dsfg\"\n"
     ]
    }
   ],
   "source": [
    "print( c(1,2,3,4) * 4 )\n",
    "print((1:10)*4)\n",
    "print( c(1,2,3,4) + c(3,4) ) # 앞의 두 개에만 작용\n",
    "print( c('a', 'bvf', 'dsfg') )"
   ]
  },
  {
   "cell_type": "markdown",
   "metadata": {
    "nbgrader": {
     "grade": false,
     "grade_id": "cell-31c370f59d196a3e",
     "locked": true,
     "schema_version": 1,
     "solution": false
    }
   },
   "source": [
    "<br>\n",
    "\n",
    "## __변수__ <a name=\"r1section2\"></a>\n",
    "a <- constant  \n",
    "a 에 상수값 constant 를 넣습니다.  \n",
    "여러 개의 값은 c(constant1, constant2, ...) 와 같은 형식을 이용해 만들 수 있습니다.(벡터)  \n",
    "벡터 값은 index 가 1번 부터 매겨집니다.  \n",
    "> 대부분의 프로그래밍 언어는 0번 부터 시작)  \n",
    "일반적으로 1부터 시작하는 경우 [1, ..., n] 은 1부터 n  \n",
    "0부터 시작하는 경우 [0, ..., n) 은 0부터 n-1  "
   ]
  },
  {
   "cell_type": "code",
   "execution_count": 42,
   "metadata": {
    "nbgrader": {
     "grade": false,
     "grade_id": "cell-31c370f59d196a3e",
     "locked": true,
     "schema_version": 1,
     "solution": false
    }
   },
   "outputs": [
    {
     "name": "stdout",
     "output_type": "stream",
     "text": [
      "[1] 20\n",
      "[1] 100\n",
      "[1] 10 40 12 14\n",
      "[1]  3.333333 13.333333  4.000000  4.666667\n"
     ]
    }
   ],
   "source": [
    "x <- 10\n",
    "print(x + 10)\n",
    "print(x*10)\n",
    "y <- x*3 + 10\n",
    "z <- c(x, y, x+2, x+4) # 벡터 : 숫자의 모음변수\n",
    "# '#' 표시 이후의 글은 comment 라고 하며 계산에서 무시됩니다. 설명등을 적을 때 유용합니다.\n",
    "print(z)\n",
    "# vector에 대해서도 계산이 가능합니다.\n",
    "print(z/3) # z[1]/3, z[2]/3, ..."
   ]
  },
  {
   "cell_type": "code",
   "execution_count": 43,
   "metadata": {
    "nbgrader": {
     "grade": false,
     "grade_id": "sum_of_squares",
     "locked": false,
     "schema_version": 1,
     "solution": true
    }
   },
   "outputs": [
    {
     "name": "stdout",
     "output_type": "stream",
     "text": [
      "10 40 12 14 \n",
      "10 40 12 \n",
      "40 12 14 \n",
      "10 14 \n",
      "1 1 0 2 \n",
      "FALSE FALSE TRUE FALSE \n",
      "12"
     ]
    }
   ],
   "source": [
    "cat(z[1], z[2], z[3], z[4], '\\n') # cat 은 print 와 유사하지만 '\\n'(줄바꾸기) 추가로 필요\n",
    "cat(z[1:3], '\\n') # index 1부터 3에 대한 호출 : python 이라면 1부터 2 에 대한 호출\n",
    "cat(z[z>10], '\\n') # 조건을 만족하는 값의 추출\n",
    "cat(z[c(1,4)], '\\n') # 여러 개의 값을 지정할 때 c() 사용\n",
    "cat(z %% 3, '\\n' )\n",
    "cat(z %% 3 == 0, '\\n' )\n",
    "cat(z[z%%3==0])"
   ]
  },
  {
   "cell_type": "markdown",
   "metadata": {},
   "source": [
    "<br>\n",
    "\n",
    "## __문자열__ <a name=\"r1section3\"></a>\n",
    "문자열은 직접 입력외에도 변수 값들을 통해 다양하게 표현할 수 있습니다."
   ]
  },
  {
   "cell_type": "code",
   "execution_count": 12,
   "metadata": {},
   "outputs": [
    {
     "data": {
      "text/html": [
       "'a = 10, b = 20'"
      ],
      "text/latex": [
       "'a = 10, b = 20'"
      ],
      "text/markdown": [
       "'a = 10, b = 20'"
      ],
      "text/plain": [
       "[1] \"a = 10, b = 20\""
      ]
     },
     "metadata": {},
     "output_type": "display_data"
    },
    {
     "data": {
      "text/html": [
       "'a = 십 입니다'"
      ],
      "text/latex": [
       "'a = 십 입니다'"
      ],
      "text/markdown": [
       "'a = 십 입니다'"
      ],
      "text/plain": [
       "[1] \"a = 십 입니다\""
      ]
     },
     "metadata": {},
     "output_type": "display_data"
    },
    {
     "data": {
      "text/html": [
       "'a = 10.000000'"
      ],
      "text/latex": [
       "'a = 10.000000'"
      ],
      "text/markdown": [
       "'a = 10.000000'"
      ],
      "text/plain": [
       "[1] \"a = 10.000000\""
      ]
     },
     "metadata": {},
     "output_type": "display_data"
    },
    {
     "data": {
      "text/html": [
       "'a = 10.00'"
      ],
      "text/latex": [
       "'a = 10.00'"
      ],
      "text/markdown": [
       "'a = 10.00'"
      ],
      "text/plain": [
       "[1] \"a = 10.00\""
      ]
     },
     "metadata": {},
     "output_type": "display_data"
    }
   ],
   "source": [
    "a <- 10\n",
    "b <- 20 \n",
    "# sprintf : string 문자열로 포맷을 가지고 출력\n",
    "sprintf('a = %d, b = %d', a, b) # %d를 변수 a값의 정수형태로 치환\n",
    "sprintf('a = %s', '십 입니다') # %s는 문자열로 치환\n",
    "sprintf('a = %f', a) # %f 는 실수형 값으로 표현\n",
    "sprintf('a = %.2f', a) # %.2f 실수형 값을 소수 둘째점까지 표현"
   ]
  },
  {
   "cell_type": "markdown",
   "metadata": {},
   "source": [
    "<br>\n",
    "\n",
    "## __수학 함수__ <a name=\"r1section5\"></a>\n",
    "수학에서 배우는 주요 함수들이 사전적으로 정의되어 있습니다."
   ]
  },
  {
   "cell_type": "code",
   "execution_count": 29,
   "metadata": {},
   "outputs": [
    {
     "data": {
      "text/html": [
       "9.26535896604903e-05"
      ],
      "text/latex": [
       "9.26535896604903e-05"
      ],
      "text/markdown": [
       "9.26535896604903e-05"
      ],
      "text/plain": [
       "[1] 9.265359e-05"
      ]
     },
     "metadata": {},
     "output_type": "display_data"
    },
    {
     "data": {
      "text/html": [
       "-0.999999999973015"
      ],
      "text/latex": [
       "-0.999999999973015"
      ],
      "text/markdown": [
       "-0.999999999973015"
      ],
      "text/plain": [
       "[1] -1"
      ]
     },
     "metadata": {},
     "output_type": "display_data"
    },
    {
     "data": {
      "text/html": [
       "0.999999995877693"
      ],
      "text/latex": [
       "0.999999995877693"
      ],
      "text/markdown": [
       "0.999999995877693"
      ],
      "text/plain": [
       "[1] 1"
      ]
     },
     "metadata": {},
     "output_type": "display_data"
    },
    {
     "data": {
      "text/html": [
       "-0.999999995877693"
      ],
      "text/latex": [
       "-0.999999995877693"
      ],
      "text/markdown": [
       "-0.999999995877693"
      ],
      "text/plain": [
       "[1] -1"
      ]
     },
     "metadata": {},
     "output_type": "display_data"
    },
    {
     "data": {
      "text/html": [
       "-1"
      ],
      "text/latex": [
       "-1"
      ],
      "text/markdown": [
       "-1"
      ],
      "text/plain": [
       "[1] -1"
      ]
     },
     "metadata": {},
     "output_type": "display_data"
    },
    {
     "data": {
      "text/html": [
       "1"
      ],
      "text/latex": [
       "1"
      ],
      "text/markdown": [
       "1"
      ],
      "text/plain": [
       "[1] 1"
      ]
     },
     "metadata": {},
     "output_type": "display_data"
    },
    {
     "data": {
      "text/html": [
       "0"
      ],
      "text/latex": [
       "0"
      ],
      "text/markdown": [
       "0"
      ],
      "text/plain": [
       "[1] 0"
      ]
     },
     "metadata": {},
     "output_type": "display_data"
    },
    {
     "data": {
      "text/html": [
       "2.71828182845905"
      ],
      "text/latex": [
       "2.71828182845905"
      ],
      "text/markdown": [
       "2.71828182845905"
      ],
      "text/plain": [
       "[1] 2.718282"
      ]
     },
     "metadata": {},
     "output_type": "display_data"
    },
    {
     "data": {
      "text/html": [
       "0.999896315728952"
      ],
      "text/latex": [
       "0.999896315728952"
      ],
      "text/markdown": [
       "0.999896315728952"
      ],
      "text/plain": [
       "[1] 0.9998963"
      ]
     },
     "metadata": {},
     "output_type": "display_data"
    },
    {
     "data": {
      "text/html": [
       "2"
      ],
      "text/latex": [
       "2"
      ],
      "text/markdown": [
       "2"
      ],
      "text/plain": [
       "[1] 2"
      ]
     },
     "metadata": {},
     "output_type": "display_data"
    },
    {
     "data": {
      "text/html": [
       "2"
      ],
      "text/latex": [
       "2"
      ],
      "text/markdown": [
       "2"
      ],
      "text/plain": [
       "[1] 2"
      ]
     },
     "metadata": {},
     "output_type": "display_data"
    },
    {
     "data": {
      "text/html": [
       "FALSE"
      ],
      "text/latex": [
       "FALSE"
      ],
      "text/markdown": [
       "FALSE"
      ],
      "text/plain": [
       "[1] FALSE"
      ]
     },
     "metadata": {},
     "output_type": "display_data"
    },
    {
     "data": {
      "text/html": [
       "TRUE"
      ],
      "text/latex": [
       "TRUE"
      ],
      "text/markdown": [
       "TRUE"
      ],
      "text/plain": [
       "[1] TRUE"
      ]
     },
     "metadata": {},
     "output_type": "display_data"
    }
   ],
   "source": [
    "sin(3.1415)\n",
    "cos(3.1416)\n",
    "tanh(10)\n",
    "tanh(-10)\n",
    "sign(-0.1) # 양수, 음수 등 확인\n",
    "sign(0.1)\n",
    "sign(0)\n",
    "exp(1)\n",
    "log(2.718)\n",
    "log(100, base=10)\n",
    "log(100, 10)\n",
    "4 == 3 # 참, 거짓 확인\n",
    "4 != 3"
   ]
  },
  {
   "cell_type": "markdown",
   "metadata": {},
   "source": [
    "<br>\n",
    "\n",
    "## __Help__ <a name=\"r1section6\"></a>\n",
    "console 에서 도움말을 얻을 수 있습니다."
   ]
  },
  {
   "cell_type": "code",
   "execution_count": 47,
   "metadata": {},
   "outputs": [
    {
     "data": {
      "text/html": [
       "\n",
       "<table width=\"100%\" summary=\"page for c {base}\"><tr><td>c {base}</td><td style=\"text-align: right;\">R Documentation</td></tr></table>\n",
       "\n",
       "<h2>Combine Values into a Vector or List</h2>\n",
       "\n",
       "<h3>Description</h3>\n",
       "\n",
       "<p>This is a generic function which combines its arguments.\n",
       "</p>\n",
       "<p>The default method combines its arguments to form a vector.\n",
       "All arguments are coerced to a common type which is the type\n",
       "of the returned value, and all attributes except names are removed.\n",
       "</p>\n",
       "\n",
       "\n",
       "<h3>Usage</h3>\n",
       "\n",
       "<pre>\n",
       "## S3 Generic function\n",
       "c(...)\n",
       "\n",
       "## Default S3 method:\n",
       "c(..., recursive = FALSE, use.names = TRUE)\n",
       "</pre>\n",
       "\n",
       "\n",
       "<h3>Arguments</h3>\n",
       "\n",
       "<table summary=\"R argblock\">\n",
       "<tr valign=\"top\"><td><code>...</code></td>\n",
       "<td>\n",
       "<p>objects to be concatenated.</p>\n",
       "</td></tr>\n",
       "<tr valign=\"top\"><td><code>recursive</code></td>\n",
       "<td>\n",
       "<p>logical.  If <code>recursive = TRUE</code>, the function\n",
       "recursively descends through lists (and pairlists) combining all\n",
       "their elements into a vector.</p>\n",
       "</td></tr>\n",
       "<tr valign=\"top\"><td><code>use.names</code></td>\n",
       "<td>\n",
       "<p>logical indicating if <code>names</code> should be\n",
       "preserved.</p>\n",
       "</td></tr>\n",
       "</table>\n",
       "\n",
       "\n",
       "<h3>Details</h3>\n",
       "\n",
       "<p>The output type is determined from the highest type of the components\n",
       "in the hierarchy NULL &lt; raw &lt; logical &lt; integer &lt; double &lt; complex &lt; character\n",
       "&lt; list &lt; expression.  Pairlists are treated as lists, whereas non-vector\n",
       "components (such names and calls) are treated as one-element lists\n",
       "which cannot be unlisted even if <code>recursive = TRUE</code>.\n",
       "</p>\n",
       "\n",
       "<p>Note that <code>factor</code>s are treated only via their\n",
       "internal <code>integer</code> codes; one proposal has been to use\n",
       "</p>\n",
       "<pre>   c.factor &lt;- function(..., recursive=TRUE) unlist(list(...), recursive=recursive)</pre>\n",
       "<p>if factor concatenation by <code>c()</code> should give a <code>factor</code>.\n",
       "</p>\n",
       "<p><code>c</code> is sometimes used for its side effect of removing attributes\n",
       "except names, for example to turn an array into a vector.\n",
       "<code>as.vector</code> is a more intuitive way to do this, but also drops\n",
       "names.  Note that methods other than the default are not required\n",
       "to do this (and they will almost certainly preserve a class attribute).\n",
       "</p>\n",
       "<p>This is a primitive function.\n",
       "</p>\n",
       "\n",
       "\n",
       "<h3>Value</h3>\n",
       "\n",
       "<p><code>NULL</code> or an expression or a vector of an appropriate mode.\n",
       "(With no arguments the value is <code>NULL</code>.)\n",
       "</p>\n",
       "\n",
       "\n",
       "<h3>S4 methods</h3>\n",
       "\n",
       "<p>This function is S4 generic, but with argument list\n",
       "<code>(x, ...)</code>.\n",
       "</p>\n",
       "\n",
       "\n",
       "<h3>References</h3>\n",
       "\n",
       "<p>Becker, R. A., Chambers, J. M. and Wilks, A. R. (1988)\n",
       "<em>The New S Language</em>.\n",
       "Wadsworth &amp; Brooks/Cole.\n",
       "</p>\n",
       "\n",
       "\n",
       "<h3>See Also</h3>\n",
       "\n",
       "<p><code>unlist</code> and <code>as.vector</code> to produce\n",
       "attribute-free vectors.\n",
       "</p>\n",
       "\n",
       "\n",
       "<h3>Examples</h3>\n",
       "\n",
       "<pre>\n",
       "c(1,7:9)\n",
       "c(1:5, 10.5, \"next\")\n",
       "\n",
       "## uses with a single argument to drop attributes\n",
       "x &lt;- 1:4\n",
       "names(x) &lt;- letters[1:4]\n",
       "x\n",
       "c(x)          # has names\n",
       "as.vector(x)  # no names\n",
       "dim(x) &lt;- c(2,2)\n",
       "x\n",
       "c(x)\n",
       "as.vector(x)\n",
       "\n",
       "## append to a list:\n",
       "ll &lt;- list(A = 1, c = \"C\")\n",
       "## do *not* use\n",
       "c(ll, d = 1:3) # which is == c(ll, as.list(c(d = 1:3))\n",
       "## but rather\n",
       "c(ll, d = list(1:3))  # c() combining two lists\n",
       "\n",
       "c(list(A = c(B = 1)), recursive = TRUE)\n",
       "\n",
       "c(options(), recursive = TRUE)\n",
       "c(list(A = c(B = 1, C = 2), B = c(E = 7)), recursive = TRUE)\n",
       "</pre>\n",
       "\n",
       "<hr /><div style=\"text-align: center;\">[Package <em>base</em> version 3.4.1 ]</div>"
      ],
      "text/latex": [
       "\\inputencoding{utf8}\n",
       "\\HeaderA{c}{Combine Values into a Vector or List}{c}\n",
       "\\methaliasA{c.default}{c}{c.default}\n",
       "\\keyword{manip}{c}\n",
       "%\n",
       "\\begin{Description}\\relax\n",
       "This is a generic function which combines its arguments.\n",
       "\n",
       "The default method combines its arguments to form a vector.\n",
       "All arguments are coerced to a common type which is the type\n",
       "of the returned value, and all attributes except names are removed.\n",
       "\\end{Description}\n",
       "%\n",
       "\\begin{Usage}\n",
       "\\begin{verbatim}\n",
       "## S3 Generic function\n",
       "c(...)\n",
       "\n",
       "## Default S3 method:\n",
       "c(..., recursive = FALSE, use.names = TRUE)\n",
       "\\end{verbatim}\n",
       "\\end{Usage}\n",
       "%\n",
       "\\begin{Arguments}\n",
       "\\begin{ldescription}\n",
       "\\item[\\code{...}] objects to be concatenated.\n",
       "\\item[\\code{recursive}] logical.  If \\code{recursive = TRUE}, the function\n",
       "recursively descends through lists (and pairlists) combining all\n",
       "their elements into a vector.\n",
       "\\item[\\code{use.names}] logical indicating if \\code{\\LinkA{names}{names}} should be\n",
       "preserved.\n",
       "\\end{ldescription}\n",
       "\\end{Arguments}\n",
       "%\n",
       "\\begin{Details}\\relax\n",
       "The output type is determined from the highest type of the components\n",
       "in the hierarchy NULL < raw < logical < integer < double < complex < character\n",
       "< list < expression.  Pairlists are treated as lists, whereas non-vector\n",
       "components (such names and calls) are treated as one-element lists\n",
       "which cannot be unlisted even if \\code{recursive = TRUE}.\n",
       "\n",
       "\n",
       "Note that \\code{\\LinkA{factor}{factor}}s are treated only via their\n",
       "internal \\code{\\LinkA{integer}{integer}} codes; one proposal has been to use\n",
       "\\begin{alltt}   c.factor <- function(..., recursive=TRUE) unlist(list(...), recursive=recursive)\\end{alltt}\n",
       "\n",
       "if factor concatenation by \\code{c()} should give a \\code{\\LinkA{factor}{factor}}.\n",
       "\n",
       "\\code{c} is sometimes used for its side effect of removing attributes\n",
       "except names, for example to turn an array into a vector.\n",
       "\\code{as.vector} is a more intuitive way to do this, but also drops\n",
       "names.  Note that methods other than the default are not required\n",
       "to do this (and they will almost certainly preserve a class attribute).\n",
       "\n",
       "This is a \\LinkA{primitive}{primitive} function.\n",
       "\\end{Details}\n",
       "%\n",
       "\\begin{Value}\n",
       "\\code{NULL} or an expression or a vector of an appropriate mode.\n",
       "(With no arguments the value is \\code{NULL}.)\n",
       "\\end{Value}\n",
       "%\n",
       "\\begin{Section}{S4 methods}\n",
       "This function is S4 generic, but with argument list\n",
       "\\code{(x, ...)}.\n",
       "\\end{Section}\n",
       "%\n",
       "\\begin{References}\\relax\n",
       "Becker, R. A., Chambers, J. M. and Wilks, A. R. (1988)\n",
       "\\emph{The New S Language}.\n",
       "Wadsworth \\& Brooks/Cole.\n",
       "\\end{References}\n",
       "%\n",
       "\\begin{SeeAlso}\\relax\n",
       "\\code{\\LinkA{unlist}{unlist}} and \\code{\\LinkA{as.vector}{as.vector}} to produce\n",
       "attribute-free vectors.\n",
       "\\end{SeeAlso}\n",
       "%\n",
       "\\begin{Examples}\n",
       "\\begin{ExampleCode}\n",
       "c(1,7:9)\n",
       "c(1:5, 10.5, \"next\")\n",
       "\n",
       "## uses with a single argument to drop attributes\n",
       "x <- 1:4\n",
       "names(x) <- letters[1:4]\n",
       "x\n",
       "c(x)          # has names\n",
       "as.vector(x)  # no names\n",
       "dim(x) <- c(2,2)\n",
       "x\n",
       "c(x)\n",
       "as.vector(x)\n",
       "\n",
       "## append to a list:\n",
       "ll <- list(A = 1, c = \"C\")\n",
       "## do *not* use\n",
       "c(ll, d = 1:3) # which is == c(ll, as.list(c(d = 1:3))\n",
       "## but rather\n",
       "c(ll, d = list(1:3))  # c() combining two lists\n",
       "\n",
       "c(list(A = c(B = 1)), recursive = TRUE)\n",
       "\n",
       "c(options(), recursive = TRUE)\n",
       "c(list(A = c(B = 1, C = 2), B = c(E = 7)), recursive = TRUE)\n",
       "\\end{ExampleCode}\n",
       "\\end{Examples}"
      ],
      "text/plain": [
       "c                     package:base                     R Documentation\n",
       "\n",
       "_\bC_\bo_\bm_\bb_\bi_\bn_\be _\bV_\ba_\bl_\bu_\be_\bs _\bi_\bn_\bt_\bo _\ba _\bV_\be_\bc_\bt_\bo_\br _\bo_\br _\bL_\bi_\bs_\bt\n",
       "\n",
       "_\bD_\be_\bs_\bc_\br_\bi_\bp_\bt_\bi_\bo_\bn:\n",
       "\n",
       "     This is a generic function which combines its arguments.\n",
       "\n",
       "     The default method combines its arguments to form a vector.  All\n",
       "     arguments are coerced to a common type which is the type of the\n",
       "     returned value, and all attributes except names are removed.\n",
       "\n",
       "_\bU_\bs_\ba_\bg_\be:\n",
       "\n",
       "     ## S3 Generic function\n",
       "     c(...)\n",
       "     \n",
       "     ## Default S3 method:\n",
       "     c(..., recursive = FALSE, use.names = TRUE)\n",
       "     \n",
       "_\bA_\br_\bg_\bu_\bm_\be_\bn_\bt_\bs:\n",
       "\n",
       "     ...: objects to be concatenated.\n",
       "\n",
       "recursive: logical.  If ‘recursive = TRUE’, the function recursively\n",
       "          descends through lists (and pairlists) combining all their\n",
       "          elements into a vector.\n",
       "\n",
       "use.names: logical indicating if ‘names’ should be preserved.\n",
       "\n",
       "_\bD_\be_\bt_\ba_\bi_\bl_\bs:\n",
       "\n",
       "     The output type is determined from the highest type of the\n",
       "     components in the hierarchy NULL < raw < logical < integer <\n",
       "     double < complex < character < list < expression.  Pairlists are\n",
       "     treated as lists, whereas non-vector components (such names and\n",
       "     calls) are treated as one-element lists which cannot be unlisted\n",
       "     even if ‘recursive = TRUE’.\n",
       "\n",
       "     Note that ‘factor’s are treated only via their internal ‘integer’\n",
       "     codes; one proposal has been to use\n",
       "     \n",
       "        c.factor <- function(..., recursive=TRUE) unlist(list(...), recursive=recursive)\n",
       "\n",
       "     if factor concatenation by ‘c()’ should give a ‘factor’.\n",
       "\n",
       "     ‘c’ is sometimes used for its side effect of removing attributes\n",
       "     except names, for example to turn an array into a vector.\n",
       "     ‘as.vector’ is a more intuitive way to do this, but also drops\n",
       "     names.  Note that methods other than the default are not required\n",
       "     to do this (and they will almost certainly preserve a class\n",
       "     attribute).\n",
       "\n",
       "     This is a primitive function.\n",
       "\n",
       "_\bV_\ba_\bl_\bu_\be:\n",
       "\n",
       "     ‘NULL’ or an expression or a vector of an appropriate mode.  (With\n",
       "     no arguments the value is ‘NULL’.)\n",
       "\n",
       "_\bS_\b4 _\bm_\be_\bt_\bh_\bo_\bd_\bs:\n",
       "\n",
       "     This function is S4 generic, but with argument list ‘(x, ...)’.\n",
       "\n",
       "_\bR_\be_\bf_\be_\br_\be_\bn_\bc_\be_\bs:\n",
       "\n",
       "     Becker, R. A., Chambers, J. M. and Wilks, A. R. (1988) _The New S\n",
       "     Language_.  Wadsworth & Brooks/Cole.\n",
       "\n",
       "_\bS_\be_\be _\bA_\bl_\bs_\bo:\n",
       "\n",
       "     ‘unlist’ and ‘as.vector’ to produce attribute-free vectors.\n",
       "\n",
       "_\bE_\bx_\ba_\bm_\bp_\bl_\be_\bs:\n",
       "\n",
       "     c(1,7:9)\n",
       "     c(1:5, 10.5, \"next\")\n",
       "     \n",
       "     ## uses with a single argument to drop attributes\n",
       "     x <- 1:4\n",
       "     names(x) <- letters[1:4]\n",
       "     x\n",
       "     c(x)          # has names\n",
       "     as.vector(x)  # no names\n",
       "     dim(x) <- c(2,2)\n",
       "     x\n",
       "     c(x)\n",
       "     as.vector(x)\n",
       "     \n",
       "     ## append to a list:\n",
       "     ll <- list(A = 1, c = \"C\")\n",
       "     ## do *not* use\n",
       "     c(ll, d = 1:3) # which is == c(ll, as.list(c(d = 1:3))\n",
       "     ## but rather\n",
       "     c(ll, d = list(1:3))  # c() combining two lists\n",
       "     \n",
       "     c(list(A = c(B = 1)), recursive = TRUE)\n",
       "     \n",
       "     c(options(), recursive = TRUE)\n",
       "     c(list(A = c(B = 1, C = 2), B = c(E = 7)), recursive = TRUE)\n",
       "     "
      ]
     },
     "metadata": {},
     "output_type": "display_data"
    }
   ],
   "source": [
    "help(c) # ?c 으로 해도 동일한 결과를 줍니다."
   ]
  },
  {
   "cell_type": "code",
   "execution_count": 48,
   "metadata": {},
   "outputs": [
    {
     "name": "stdout",
     "output_type": "stream",
     "text": [
      "\n",
      "c> c(1,7:9)\n",
      "[1] 1 7 8 9\n",
      "\n",
      "c> c(1:5, 10.5, \"next\")\n",
      "[1] \"1\"    \"2\"    \"3\"    \"4\"    \"5\"    \"10.5\" \"next\"\n",
      "\n",
      "c> ## uses with a single argument to drop attributes\n",
      "c> x <- 1:4\n",
      "\n",
      "c> names(x) <- letters[1:4]\n",
      "\n",
      "c> x\n",
      "a b c d \n",
      "1 2 3 4 \n",
      "\n",
      "c> c(x)          # has names\n",
      "a b c d \n",
      "1 2 3 4 \n",
      "\n",
      "c> as.vector(x)  # no names\n",
      "[1] 1 2 3 4\n",
      "\n",
      "c> dim(x) <- c(2,2)\n",
      "\n",
      "c> x\n",
      "     [,1] [,2]\n",
      "[1,]    1    3\n",
      "[2,]    2    4\n",
      "\n",
      "c> c(x)\n",
      "[1] 1 2 3 4\n",
      "\n",
      "c> as.vector(x)\n",
      "[1] 1 2 3 4\n",
      "\n",
      "c> ## append to a list:\n",
      "c> ll <- list(A = 1, c = \"C\")\n",
      "\n",
      "c> ## do *not* use\n",
      "c> c(ll, d = 1:3) # which is == c(ll, as.list(c(d = 1:3))\n",
      "$A\n",
      "[1] 1\n",
      "\n",
      "$c\n",
      "[1] \"C\"\n",
      "\n",
      "$d1\n",
      "[1] 1\n",
      "\n",
      "$d2\n",
      "[1] 2\n",
      "\n",
      "$d3\n",
      "[1] 3\n",
      "\n",
      "\n",
      "c> ## but rather\n",
      "c> c(ll, d = list(1:3))  # c() combining two lists\n",
      "$A\n",
      "[1] 1\n",
      "\n",
      "$c\n",
      "[1] \"C\"\n",
      "\n",
      "$d\n",
      "[1] 1 2 3\n",
      "\n",
      "\n",
      "c> c(list(A = c(B = 1)), recursive = TRUE)\n",
      "A.B \n",
      "  1 \n",
      "\n",
      "c> c(options(), recursive = TRUE)\n",
      "$add.smooth\n",
      "[1] TRUE\n",
      "\n",
      "$bitmapType\n",
      "[1] \"cairo\"\n",
      "\n",
      "$browser\n",
      "[1] \"\"\n",
      "\n",
      "$browserNLdisabled\n",
      "[1] FALSE\n",
      "\n",
      "$CBoundsCheck\n",
      "[1] FALSE\n",
      "\n",
      "$check.bounds\n",
      "[1] FALSE\n",
      "\n",
      "$citation.bibtex.max\n",
      "[1] 1\n",
      "\n",
      "$continue\n",
      "[1] \"+ \"\n",
      "\n",
      "$contrasts.unordered\n",
      "[1] \"contr.treatment\"\n",
      "\n",
      "$contrasts.ordered\n",
      "[1] \"contr.poly\"\n",
      "\n",
      "$defaultPackages1\n",
      "[1] \"datasets\"\n",
      "\n",
      "$defaultPackages2\n",
      "[1] \"utils\"\n",
      "\n",
      "$defaultPackages3\n",
      "[1] \"grDevices\"\n",
      "\n",
      "$defaultPackages4\n",
      "[1] \"graphics\"\n",
      "\n",
      "$defaultPackages5\n",
      "[1] \"stats\"\n",
      "\n",
      "$defaultPackages6\n",
      "[1] \"methods\"\n",
      "\n",
      "$demo.ask\n",
      "[1] \"default\"\n",
      "\n",
      "$deparse.cutoff\n",
      "[1] 60\n",
      "\n",
      "$device\n",
      "function (filename = null_filename, ...) \n",
      "ok_device(filename, ...)\n",
      "<environment: 0x3dadeb0>\n",
      "\n",
      "$device.ask.default\n",
      "[1] FALSE\n",
      "\n",
      "$digits\n",
      "[1] 7\n",
      "\n",
      "$dvipscmd\n",
      "[1] \"dvips\"\n",
      "\n",
      "$echo\n",
      "[1] FALSE\n",
      "\n",
      "$editor\n",
      "[1] \"vi\"\n",
      "\n",
      "$encoding\n",
      "[1] \"native.enc\"\n",
      "\n",
      "$example.ask\n",
      "[1] \"default\"\n",
      "\n",
      "$expressions\n",
      "[1] 5000\n",
      "\n",
      "$help.search.types1\n",
      "[1] \"vignette\"\n",
      "\n",
      "$help.search.types2\n",
      "[1] \"demo\"\n",
      "\n",
      "$help.search.types3\n",
      "[1] \"help\"\n",
      "\n",
      "$help.try.all.packages\n",
      "[1] FALSE\n",
      "\n",
      "$HTTPUserAgent\n",
      "[1] \"R (3.4.1 x86_64-pc-linux-gnu x86_64 linux-gnu)\"\n",
      "\n",
      "$internet.info\n",
      "[1] 2\n",
      "\n",
      "$jupyter.base_display_func\n",
      "function (data, metadata = NULL) \n",
      "{\n",
      "    if (is.null(metadata)) {\n",
      "        metadata <- namedlist()\n",
      "    }\n",
      "    send_response(\"display_data\", current_request, \"iopub\", list(data = data, \n",
      "        metadata = metadata))\n",
      "    invisible(TRUE)\n",
      "}\n",
      "<environment: 0x3ce0208>\n",
      "attr(,\"mayCall\")\n",
      "character(0)\n",
      "attr(,\"name\")\n",
      "[1] \"display_data\"\n",
      "attr(,\"refClassName\")\n",
      "[1] \"Executor\"\n",
      "attr(,\"superClassMethod\")\n",
      "[1] \"\"\n",
      "attr(,\"class\")\n",
      "[1] \"refMethodDef\"\n",
      "attr(,\"class\")attr(,\"package\")\n",
      "[1] \"methods\"\n",
      "\n",
      "$jupyter.display_mimetypes1\n",
      "[1] \"text/plain\"\n",
      "\n",
      "$jupyter.display_mimetypes2\n",
      "[1] \"text/html\"\n",
      "\n",
      "$jupyter.display_mimetypes3\n",
      "[1] \"text/markdown\"\n",
      "\n",
      "$jupyter.display_mimetypes4\n",
      "[1] \"text/latex\"\n",
      "\n",
      "$jupyter.display_mimetypes5\n",
      "[1] \"application/json\"\n",
      "\n",
      "$jupyter.display_mimetypes6\n",
      "[1] \"application/javascript\"\n",
      "\n",
      "$jupyter.display_mimetypes7\n",
      "[1] \"application/pdf\"\n",
      "\n",
      "$jupyter.display_mimetypes8\n",
      "[1] \"image/png\"\n",
      "\n",
      "$jupyter.display_mimetypes9\n",
      "[1] \"image/jpeg\"\n",
      "\n",
      "$jupyter.display_mimetypes10\n",
      "[1] \"image/svg+xml\"\n",
      "\n",
      "$jupyter.in_kernel\n",
      "[1] TRUE\n",
      "\n",
      "$jupyter.log_level\n",
      "[1] 1\n",
      "\n",
      "$jupyter.logfile\n",
      "[1] NA\n",
      "\n",
      "$jupyter.pager_classes1\n",
      "[1] \"packageIQR\"\n",
      "\n",
      "$jupyter.pager_classes2\n",
      "[1] \"help_files_with_topic\"\n",
      "\n",
      "$jupyter.plot_mimetypes1\n",
      "[1] \"text/plain\"\n",
      "\n",
      "$jupyter.plot_mimetypes2\n",
      "[1] \"image/png\"\n",
      "\n",
      "$jupyter.rich_display\n",
      "[1] TRUE\n",
      "\n",
      "$keep.source\n",
      "[1] FALSE\n",
      "\n",
      "$keep.source.pkgs\n",
      "[1] FALSE\n",
      "\n",
      "$locatorBell\n",
      "[1] TRUE\n",
      "\n",
      "$mailer\n",
      "[1] \"mailto\"\n",
      "\n",
      "$matprod\n",
      "[1] \"default\"\n",
      "\n",
      "$max.print\n",
      "[1] 99999\n",
      "\n",
      "$menu.graphics\n",
      "[1] TRUE\n",
      "\n",
      "$na.action\n",
      "[1] \"na.omit\"\n",
      "\n",
      "$nwarnings\n",
      "[1] 50\n",
      "\n",
      "$OutDec\n",
      "[1] \".\"\n",
      "\n",
      "$pager\n",
      "function (files, header, title, delete.file) \n",
      "{\n",
      "    text <- title\n",
      "    for (path in files) {\n",
      "        text <- c(text, header, readLines(path))\n",
      "    }\n",
      "    if (delete.file) \n",
      "        file.remove(files)\n",
      "    data <- list(`text/plain` = paste(text, collapse = \"\\\\n\"))\n",
      "    page(list(data = data, metadata = namedlist()))\n",
      "}\n",
      "<environment: 0x3c608b8>\n",
      "\n",
      "$papersize\n",
      "[1] \"letter\"\n",
      "\n",
      "$PCRE_limit_recursion\n",
      "[1] NA\n",
      "\n",
      "$PCRE_study\n",
      "[1] 10\n",
      "\n",
      "$PCRE_use_JIT\n",
      "[1] TRUE\n",
      "\n",
      "$pdfviewer\n",
      "[1] \"\"\n",
      "\n",
      "$pkgType\n",
      "[1] \"source\"\n",
      "\n",
      "$printcmd\n",
      "[1] \"\"\n",
      "\n",
      "$prompt\n",
      "[1] \"> \"\n",
      "\n",
      "$repos.CRAN\n",
      "[1] \"https://cran.r-project.org\"\n",
      "\n",
      "$repr.function.highlight\n",
      "[1] FALSE\n",
      "\n",
      "$repr.html.deduplicate\n",
      "[1] FALSE\n",
      "\n",
      "$repr.matrix.latex.colspec.row_head\n",
      "[1] \"r|\"\n",
      "\n",
      "$repr.matrix.latex.colspec.col\n",
      "[1] \"l\"\n",
      "\n",
      "$repr.matrix.latex.colspec.end\n",
      "[1] \"\"\n",
      "\n",
      "$repr.matrix.max.cols\n",
      "[1] 20\n",
      "\n",
      "$repr.matrix.max.rows\n",
      "[1] 60\n",
      "\n",
      "$repr.plot.antialias\n",
      "[1] \"gray\"\n",
      "\n",
      "$repr.plot.bg\n",
      "[1] \"white\"\n",
      "\n",
      "$repr.plot.family\n",
      "[1] \"sans\"\n",
      "\n",
      "$repr.plot.height\n",
      "[1] 7\n",
      "\n",
      "$repr.plot.pointsize\n",
      "[1] 12\n",
      "\n",
      "$repr.plot.quality\n",
      "[1] 90\n",
      "\n",
      "$repr.plot.res\n",
      "[1] 120\n",
      "\n",
      "$repr.plot.width\n",
      "[1] 7\n",
      "\n",
      "$repr.vector.quote\n",
      "[1] TRUE\n",
      "\n",
      "$rl_word_breaks\n",
      "[1] \" \\t\\n\\\"\\\\'`><=%;,|&{()}\"\n",
      "\n",
      "$scipen\n",
      "[1] 0\n",
      "\n",
      "$show.coef.Pvalues\n",
      "[1] TRUE\n",
      "\n",
      "$show.error.messages\n",
      "[1] TRUE\n",
      "\n",
      "$show.signif.stars\n",
      "[1] TRUE\n",
      "\n",
      "$showErrorCalls\n",
      "[1] TRUE\n",
      "\n",
      "$str.strict.width\n",
      "[1] \"no\"\n",
      "\n",
      "$str.digits.d\n",
      "[1] 3\n",
      "\n",
      "$str.vec.len\n",
      "[1] 4\n",
      "\n",
      "$str.dendrogram.last\n",
      "[1] \"`\"\n",
      "\n",
      "$stringsAsFactors\n",
      "[1] TRUE\n",
      "\n",
      "$texi2dvi\n",
      "[1] \"texi2dvi\"\n",
      "\n",
      "$timeout\n",
      "[1] 60\n",
      "\n",
      "$ts.eps\n",
      "[1] 1e-05\n",
      "\n",
      "$ts.S.compat\n",
      "[1] FALSE\n",
      "\n",
      "$unzip\n",
      "[1] \"\"\n",
      "\n",
      "$useFancyQuotes\n",
      "[1] TRUE\n",
      "\n",
      "$verbose\n",
      "[1] FALSE\n",
      "\n",
      "$warn\n",
      "[1] 0\n",
      "\n",
      "$warning.length\n",
      "[1] 1000\n",
      "\n",
      "$width\n",
      "[1] 80\n",
      "\n",
      "\n",
      "c> c(list(A = c(B = 1, C = 2), B = c(E = 7)), recursive = TRUE)\n",
      "A.B A.C B.E \n",
      "  1   2   7 \n"
     ]
    }
   ],
   "source": [
    "example(c)"
   ]
  },
  {
   "cell_type": "code",
   "execution_count": 51,
   "metadata": {},
   "outputs": [
    {
     "data": {},
     "metadata": {},
     "output_type": "display_data"
    },
    {
     "data": {
      "text/plain": [
       "R Information\n",
       "\n",
       "Help files with alias or concept or title matching ‘concatenate’ using\n",
       "fuzzy matching:\n",
       "\n",
       "\n",
       "base::cat               Concatenate and Print\n",
       "base::paste             Concatenate Strings\n",
       "bit::c.bit              Concatenating bit and bitwhich vectors\n",
       "bit64::c.integer64      Concatenating integer64 vectors\n",
       "crayon::concat          Concatenate character vectors\n",
       "forcats::fct_c          Concatenate factors, combining levels\n",
       "grid::gPath             Concatenate Grob Names\n",
       "grid::vpPath            Concatenate Viewport Names\n",
       "lava::%++%              Concatenation operator\n",
       "sfsmisc::vcat           Paste Utilities - Concatenate Strings\n",
       "stringi::%s+%           Concatenate Two Character Vectors\n",
       "stringi::stri_join      Concatenate Character Vectors\n",
       "stringi::stri_join_list\n",
       "                        Concatenate Strings in a List\n",
       "stringr::str_dup        Duplicate and concatenate strings within a\n",
       "                        character vector.\n",
       "timeDate::c             Concatenating 'timeDate' Objects\n",
       "\n",
       "\n",
       "Type '?PKG::FOO' to inspect entries 'PKG::FOO', or 'TYPE?PKG::FOO' for\n",
       "entries like 'PKG::FOO-TYPE'.\n",
       "\n",
       "\n"
      ]
     },
     "metadata": {},
     "output_type": "display_data"
    }
   ],
   "source": [
    "help.search('concatenate')"
   ]
  },
  {
   "cell_type": "markdown",
   "metadata": {},
   "source": [
    "<br><br>\n",
    "\n",
    "---\n",
    "##### [이전 페이지](R_front.ipynb)\n",
    "##### [다음 페이지](R_tutorial2.ipynb)"
   ]
  },
  {
   "cell_type": "code",
   "execution_count": null,
   "metadata": {},
   "outputs": [],
   "source": []
  }
 ],
 "metadata": {
  "celltoolbar": "Create Assignment",
  "kernelspec": {
   "display_name": "R",
   "language": "R",
   "name": "ir"
  },
  "language_info": {
   "codemirror_mode": "r",
   "file_extension": ".r",
   "mimetype": "text/x-r-source",
   "name": "R",
   "pygments_lexer": "r",
   "version": "3.4.1"
  }
 },
 "nbformat": 4,
 "nbformat_minor": 2
}
