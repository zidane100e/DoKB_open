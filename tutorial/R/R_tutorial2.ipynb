{
 "cells": [
  {
   "cell_type": "markdown",
   "metadata": {
    "nbgrader": {
     "grade": false,
     "grade_id": "cell-fa49621e336fbb07",
     "locked": true,
     "schema_version": 1,
     "solution": false
    }
   },
   "source": [
    "# __데이터 타입__\n",
    "<br>\n",
    "\n",
    "### Table of contents\n",
    "1. [matrix, array](#r2section1)\n",
    "2. [list](#r2section2)\n",
    "3. [Data Frame](#r2section3)\n",
    "4. [Model](#r2section4)\n",
    "    \n",
    "<br>\n",
    "\n",
    "데이터는 여러 형태로 정의될 수 있습니다.  \n",
    "R에서 데이터를 다루는 대표적인 타입은 matrix, array, dataframe 등이 있습니다.  \n",
    "* 프로그래밍 언어에 따라 같은 이름의 데이터 타입이라도 성질은 다를 수 있습니다."
   ]
  },
  {
   "cell_type": "markdown",
   "metadata": {
    "nbgrader": {
     "grade": false,
     "grade_id": "cell-fa49621e336fbb07",
     "locked": true,
     "schema_version": 1,
     "solution": false
    }
   },
   "source": [
    "<br>\n",
    "\n",
    "## __matrix, array__ <a name=\"r2section1\"></a>\n",
    "matrix 는 2차원 행렬 모양의 데이터입니다."
   ]
  },
  {
   "cell_type": "code",
   "execution_count": 1,
   "metadata": {
    "nbgrader": {
     "grade": false,
     "grade_id": "cell-fa49621e336fbb07",
     "locked": true,
     "schema_version": 1,
     "solution": false
    }
   },
   "outputs": [
    {
     "name": "stdout",
     "output_type": "stream",
     "text": [
      "     [,1] [,2]\n",
      "[1,]    1    4\n",
      "[2,]    2    5\n",
      "[3,]    3    6\n"
     ]
    }
   ],
   "source": [
    "m1 <- matrix(data=c(1,2,3,4,5,6), nrow=3, ncol=2) # 1 ~ 6 6개의 원소를 3*2 형태로  변환하여 matrix 에 넣습니다.  \n",
    "# 변환 방향은 각 column을 구성하는 순서로 생성됩니다. \n",
    "print(m1)"
   ]
  },
  {
   "cell_type": "markdown",
   "metadata": {
    "nbgrader": {
     "grade": false,
     "grade_id": "cell-fa49621e336fbb07",
     "locked": true,
     "schema_version": 1,
     "solution": false
    }
   },
   "source": [
    "array는 2차원 이상의 데이터를 다룰 수 있습니다.  \n",
    "데이터의 구성은 dim 을 통해 설정해 줍니다.  \n",
    "3차원의 경우 2차원 행렬이 여러 개 있는 것으로 생각할 수 있습니다."
   ]
  },
  {
   "cell_type": "code",
   "execution_count": 2,
   "metadata": {
    "nbgrader": {
     "grade": false,
     "grade_id": "cell-fa49621e336fbb07",
     "locked": true,
     "schema_version": 1,
     "solution": false
    }
   },
   "outputs": [
    {
     "name": "stdout",
     "output_type": "stream",
     "text": [
      ", , 1\n",
      "\n",
      "     [,1] [,2] [,3]\n",
      "[1,]    1    5    9\n",
      "[2,]    2    6   10\n",
      "[3,]    3    7   11\n",
      "[4,]    4    8   12\n",
      "\n",
      ", , 2\n",
      "\n",
      "     [,1] [,2] [,3]\n",
      "[1,]   13   17   21\n",
      "[2,]   14   18   22\n",
      "[3,]   15   19   23\n",
      "[4,]   16   20   24\n",
      "\n"
     ]
    }
   ],
   "source": [
    "a1 <- array(1:24, dim=c(4,3,2)) # row, column, (row, column) : 2*3*(두 개 행렬)\n",
    "print(a1)"
   ]
  },
  {
   "cell_type": "code",
   "execution_count": 3,
   "metadata": {
    "nbgrader": {
     "grade": false,
     "grade_id": "cell-fa49621e336fbb07",
     "locked": true,
     "schema_version": 1,
     "solution": false
    }
   },
   "outputs": [
    {
     "name": "stdout",
     "output_type": "stream",
     "text": [
      "[1] 1\n",
      "\n",
      "[1] 1 5 9\n",
      "\n",
      "[1]  1 13\n",
      "\n",
      "[1]  2 14\n",
      "\n",
      "     [,1] [,2] [,3]\n",
      "[1,]    1    5    9\n",
      "[2,]    2    6   10\n",
      "[3,]    3    7   11\n",
      "[4,]    4    8   12\n",
      "\n",
      "     [,1] [,2]\n",
      "[1,]   13   21\n",
      "[2,]   14   22\n",
      "[3,]   15   23\n",
      "[4,]   16   24\n"
     ]
    }
   ],
   "source": [
    "# 첫번째 index 는 row, 두 번째 index 는 column, 셋 째 index 는 행렬 입니다.\n",
    "print(a1[1,1,1])\n",
    "cat('\\n')\n",
    "print(a1[1,,1])\n",
    "cat('\\n')\n",
    "print(a1[1,1,]) # 각 행렬로부터의 (1,1) 값과 모든 셋 째 index\n",
    "cat('\\n')\n",
    "print(a1[2,1,1:2]) # 1:2 는 1, 2\n",
    "cat('\\n')\n",
    "print(a1[,,1]) # 셋 째 행렬의 모든 row, column\n",
    "cat('\\n')\n",
    "print(a1[,c(1,3),2]) # 2번째 행렬의 1,3번째 컬럼 값\n",
    "dim(a1) <- c(2,3,4) # dimension 변환"
   ]
  },
  {
   "cell_type": "markdown",
   "metadata": {
    "nbgrader": {
     "grade": false,
     "grade_id": "cell-fa49621e336fbb07",
     "locked": true,
     "schema_version": 1,
     "solution": false
    }
   },
   "source": [
    "<br>\n",
    "\n",
    "## __list__ <a name=\"r2section2\"></a>\n",
    "matrix, array는 벡터의 종류로 한 개의 데이터 타입만 지원합니다. 그에 반해 list 는 여러 데이터 종류를 결합할 수 있게 해 줍니다.  \n",
    "또한 element들에 이름을 붙이는 것이 가능합니다.  "
   ]
  },
  {
   "cell_type": "code",
   "execution_count": 4,
   "metadata": {
    "nbgrader": {
     "grade": false,
     "grade_id": "cell-fa49621e336fbb07",
     "locked": true,
     "schema_version": 1,
     "solution": false
    }
   },
   "outputs": [],
   "source": [
    "student1 <- list(name='chulsoo', score=70)\n",
    "student2 <- list(name='younghee', score=80)\n",
    "student3 <- list(name='doran', score=90)\n",
    "student4 <- list(name='daeryuk', score=95)"
   ]
  },
  {
   "cell_type": "code",
   "execution_count": 5,
   "metadata": {
    "nbgrader": {
     "grade": false,
     "grade_id": "cell-fa49621e336fbb07",
     "locked": true,
     "schema_version": 1,
     "solution": false
    }
   },
   "outputs": [
    {
     "data": {
      "text/html": [
       "'chulsoo'"
      ],
      "text/latex": [
       "'chulsoo'"
      ],
      "text/markdown": [
       "'chulsoo'"
      ],
      "text/plain": [
       "[1] \"chulsoo\""
      ]
     },
     "metadata": {},
     "output_type": "display_data"
    },
    {
     "data": {
      "text/html": [
       "70"
      ],
      "text/latex": [
       "70"
      ],
      "text/markdown": [
       "70"
      ],
      "text/plain": [
       "[1] 70"
      ]
     },
     "metadata": {},
     "output_type": "display_data"
    },
    {
     "data": {
      "text/html": [
       "<strong>$name</strong> = 'chulsoo'"
      ],
      "text/latex": [
       "\\textbf{\\$name} = 'chulsoo'"
      ],
      "text/markdown": [
       "**$name** = 'chulsoo'"
      ],
      "text/plain": [
       "$name\n",
       "[1] \"chulsoo\"\n"
      ]
     },
     "metadata": {},
     "output_type": "display_data"
    },
    {
     "data": {
      "text/html": [
       "<strong>$score</strong> = 70"
      ],
      "text/latex": [
       "\\textbf{\\$score} = 70"
      ],
      "text/markdown": [
       "**$score** = 70"
      ],
      "text/plain": [
       "$score\n",
       "[1] 70\n"
      ]
     },
     "metadata": {},
     "output_type": "display_data"
    },
    {
     "data": {
      "text/html": [
       "'chulsoo'"
      ],
      "text/latex": [
       "'chulsoo'"
      ],
      "text/markdown": [
       "'chulsoo'"
      ],
      "text/plain": [
       "[1] \"chulsoo\""
      ]
     },
     "metadata": {},
     "output_type": "display_data"
    },
    {
     "data": {
      "text/html": [
       "70"
      ],
      "text/latex": [
       "70"
      ],
      "text/markdown": [
       "70"
      ],
      "text/plain": [
       "[1] 70"
      ]
     },
     "metadata": {},
     "output_type": "display_data"
    }
   ],
   "source": [
    "student1$name\n",
    "student1$score\n",
    "student1[1] # list 항목 name\n",
    "student1[2]\n",
    "student1[[1]] # list 값\n",
    "student1[[2]]"
   ]
  },
  {
   "cell_type": "markdown",
   "metadata": {
    "nbgrader": {
     "grade": false,
     "grade_id": "cell-fa49621e336fbb07",
     "locked": true,
     "schema_version": 1,
     "solution": false
    }
   },
   "source": [
    "<br>\n",
    "\n",
    "## __Data Frame__ <a name=\"r2section3\"></a>\n",
    "일반적인 DB의 테이블과 유사한 형태입니다.  "
   ]
  },
  {
   "cell_type": "code",
   "execution_count": 6,
   "metadata": {
    "nbgrader": {
     "grade": false,
     "grade_id": "cell-fa49621e336fbb07",
     "locked": true,
     "schema_version": 1,
     "solution": false
    }
   },
   "outputs": [],
   "source": [
    "name = c('chulsoo', 'younghee', 'doran', 'daeryuk')\n",
    "score = c(70, 80, 90, 95)"
   ]
  },
  {
   "cell_type": "code",
   "execution_count": 7,
   "metadata": {
    "nbgrader": {
     "grade": false,
     "grade_id": "cell-fa49621e336fbb07",
     "locked": true,
     "schema_version": 1,
     "solution": false
    }
   },
   "outputs": [
    {
     "name": "stdout",
     "output_type": "stream",
     "text": [
      "      name score\n",
      "1  chulsoo    70\n",
      "2 younghee    80\n",
      "3    doran    90\n",
      "4  daeryuk    95\n",
      "[1] 70 80 90 95\n",
      "[1] FALSE FALSE  TRUE  TRUE\n"
     ]
    }
   ],
   "source": [
    "tb1 <- data.frame(name, score)\n",
    "print(tb1)\n",
    "print(tb1$score)\n",
    "print(tb1$score > 80)"
   ]
  },
  {
   "cell_type": "code",
   "execution_count": 8,
   "metadata": {
    "nbgrader": {
     "grade": false,
     "grade_id": "cell-fa49621e336fbb07",
     "locked": true,
     "schema_version": 1,
     "solution": false
    }
   },
   "outputs": [
    {
     "data": {
      "text/html": [
       "<ol class=list-inline>\n",
       "\t<li>90</li>\n",
       "\t<li>95</li>\n",
       "</ol>\n"
      ],
      "text/latex": [
       "\\begin{enumerate*}\n",
       "\\item 90\n",
       "\\item 95\n",
       "\\end{enumerate*}\n"
      ],
      "text/markdown": [
       "1. 90\n",
       "2. 95\n",
       "\n",
       "\n"
      ],
      "text/plain": [
       "[1] 90 95"
      ]
     },
     "metadata": {},
     "output_type": "display_data"
    }
   ],
   "source": [
    "tb1$score[tb1$score>80] # True 값만 선택"
   ]
  },
  {
   "cell_type": "code",
   "execution_count": 9,
   "metadata": {},
   "outputs": [
    {
     "name": "stdout",
     "output_type": "stream",
     "text": [
      "  math english\n",
      "1   30      50\n",
      "2   40      60\n",
      "3   20      70\n",
      "4   15      80\n"
     ]
    }
   ],
   "source": [
    "math <- c(30, 40, 20, 15)\n",
    "english <- c(50, 60, 70, 80)\n",
    "tb2 <- data.frame(math, english)\n",
    "print(tb2)"
   ]
  },
  {
   "cell_type": "code",
   "execution_count": 10,
   "metadata": {},
   "outputs": [],
   "source": [
    "# 한 개의 row 는 컬럼명을 이용해 아래와 같이 정의할 수 있습니다.\n",
    "stu1 <- data.frame('name'= 'changhee', score=30, math=40, english=50)\n",
    "stu2 <- data.frame('name'= 'jaeyoung', score=30, math=40, english=50)"
   ]
  },
  {
   "cell_type": "code",
   "execution_count": 11,
   "metadata": {},
   "outputs": [
    {
     "name": "stdout",
     "output_type": "stream",
     "text": [
      "      name score math english\n",
      "1  chulsoo    70   30      50\n",
      "2 younghee    80   40      60\n",
      "3    doran    90   20      70\n",
      "4  daeryuk    95   15      80\n",
      "\n",
      "      name score math english\n",
      "1  chulsoo    70   30      50\n",
      "2 younghee    80   40      60\n",
      "3    doran    90   20      70\n",
      "4  daeryuk    95   15      80\n",
      "5 changhee    30   40      50\n",
      "6 jaeyoung    30   40      50\n"
     ]
    }
   ],
   "source": [
    "tb3 <- cbind(tb1, tb2) # column bind\n",
    "print(tb3)\n",
    "cat('\\n')\n",
    "tb4 <- rbind(tb3, stu1, stu2) # row bind\n",
    "print(tb4)"
   ]
  },
  {
   "cell_type": "markdown",
   "metadata": {},
   "source": [
    "<br>\n",
    "\n",
    "## __Model__ <a name=\"r2section4\"></a>\n",
    "변수 간 관계를 나타내는 Model 을 살펴봅니다.  \n",
    "기본으로 주어진 cars 데이터를 이용합니다."
   ]
  },
  {
   "cell_type": "code",
   "execution_count": 12,
   "metadata": {},
   "outputs": [
    {
     "data": {
      "text/html": [
       "'data.frame'"
      ],
      "text/latex": [
       "'data.frame'"
      ],
      "text/markdown": [
       "'data.frame'"
      ],
      "text/plain": [
       "[1] \"data.frame\""
      ]
     },
     "metadata": {},
     "output_type": "display_data"
    },
    {
     "data": {
      "text/html": [
       "<table>\n",
       "<thead><tr><th scope=col>speed</th><th scope=col>dist</th></tr></thead>\n",
       "<tbody>\n",
       "\t<tr><td>4 </td><td> 2</td></tr>\n",
       "\t<tr><td>4 </td><td>10</td></tr>\n",
       "\t<tr><td>7 </td><td> 4</td></tr>\n",
       "</tbody>\n",
       "</table>\n"
      ],
      "text/latex": [
       "\\begin{tabular}{r|ll}\n",
       " speed & dist\\\\\n",
       "\\hline\n",
       "\t 4  &  2\\\\\n",
       "\t 4  & 10\\\\\n",
       "\t 7  &  4\\\\\n",
       "\\end{tabular}\n"
      ],
      "text/markdown": [
       "\n",
       "speed | dist | \n",
       "|---|---|---|\n",
       "| 4  |  2 | \n",
       "| 4  | 10 | \n",
       "| 7  |  4 | \n",
       "\n",
       "\n"
      ],
      "text/plain": [
       "  speed dist\n",
       "1 4      2  \n",
       "2 4     10  \n",
       "3 7      4  "
      ]
     },
     "metadata": {},
     "output_type": "display_data"
    }
   ],
   "source": [
    "class(cars) # cars 는 data.frame 자료\n",
    "cars[1:3,]"
   ]
  },
  {
   "cell_type": "code",
   "execution_count": 13,
   "metadata": {},
   "outputs": [
    {
     "data": {
      "text/plain": [
       "\n",
       "Call:\n",
       "lm(formula = dist ~ speed, data = cars)\n",
       "\n",
       "Coefficients:\n",
       "(Intercept)        speed  \n",
       "    -17.579        3.932  \n"
      ]
     },
     "metadata": {},
     "output_type": "display_data"
    },
    {
     "name": "stdout",
     "output_type": "stream",
     "text": [
      "\n",
      "\n",
      "============================\n",
      "\n"
     ]
    },
    {
     "data": {
      "text/plain": [
       "\n",
       "Call:\n",
       "lm(formula = dist ~ speed, data = cars)\n",
       "\n",
       "Residuals:\n",
       "    Min      1Q  Median      3Q     Max \n",
       "-29.069  -9.525  -2.272   9.215  43.201 \n",
       "\n",
       "Coefficients:\n",
       "            Estimate Std. Error t value Pr(>|t|)    \n",
       "(Intercept) -17.5791     6.7584  -2.601   0.0123 *  \n",
       "speed         3.9324     0.4155   9.464 1.49e-12 ***\n",
       "---\n",
       "Signif. codes:  0 ‘***’ 0.001 ‘**’ 0.01 ‘*’ 0.05 ‘.’ 0.1 ‘ ’ 1\n",
       "\n",
       "Residual standard error: 15.38 on 48 degrees of freedom\n",
       "Multiple R-squared:  0.6511,\tAdjusted R-squared:  0.6438 \n",
       "F-statistic: 89.57 on 1 and 48 DF,  p-value: 1.49e-12\n"
      ]
     },
     "metadata": {},
     "output_type": "display_data"
    }
   ],
   "source": [
    "model1 <- lm(formula=dist~speed, data=cars) # lm : linear model\n",
    "model1\n",
    "cat('\\n\\n============================\\n\\n')\n",
    "summary(model1)"
   ]
  },
  {
   "cell_type": "code",
   "execution_count": 14,
   "metadata": {},
   "outputs": [
    {
     "data": {
      "text/html": [
       "'function'"
      ],
      "text/latex": [
       "'function'"
      ],
      "text/markdown": [
       "'function'"
      ],
      "text/plain": [
       "[1] \"function\""
      ]
     },
     "metadata": {},
     "output_type": "display_data"
    },
    {
     "data": {
      "text/html": [
       "'lm'"
      ],
      "text/latex": [
       "'lm'"
      ],
      "text/markdown": [
       "'lm'"
      ],
      "text/plain": [
       "[1] \"lm\""
      ]
     },
     "metadata": {},
     "output_type": "display_data"
    }
   ],
   "source": [
    "class(lm) # lm 은 선형 회귀 모델을 위한 함수\n",
    "class(model1) # lm 모델의 결과는 lm 이라는 자료 구조(모델, 클래스)"
   ]
  },
  {
   "cell_type": "markdown",
   "metadata": {},
   "source": [
    "<br><br>\n",
    "\n",
    "---\n",
    "##### [이전 페이지](R_tutorial1.ipynb)\n",
    "##### [다음 페이지](R_tutorial3.ipynb)"
   ]
  },
  {
   "cell_type": "code",
   "execution_count": null,
   "metadata": {},
   "outputs": [],
   "source": []
  }
 ],
 "metadata": {
  "celltoolbar": "Create Assignment",
  "kernelspec": {
   "display_name": "R",
   "language": "R",
   "name": "ir"
  },
  "language_info": {
   "codemirror_mode": "r",
   "file_extension": ".r",
   "mimetype": "text/x-r-source",
   "name": "R",
   "pygments_lexer": "r",
   "version": "3.4.1"
  }
 },
 "nbformat": 4,
 "nbformat_minor": 2
}
