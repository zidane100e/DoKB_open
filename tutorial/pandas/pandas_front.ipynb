{
 "cells": [
  {
   "cell_type": "markdown",
   "metadata": {},
   "source": [
    "# __Python 데이터분석 실습 환경__\n",
    "\n",
    "<img src=\"python_test.gif\" height=\"400\" width=\"400\" align=\"left\"/>\n",
    "<img src=\"open.gif\" height=\"400\" width=\"400\" align=\"center\"/>"
   ]
  },
  {
   "cell_type": "code",
   "execution_count": 2,
   "metadata": {},
   "outputs": [],
   "source": [
    "# cell에 코드 작성 후 Shift+Enter 누르면 실행 \n",
    "\n",
    " "
   ]
  },
  {
   "cell_type": "markdown",
   "metadata": {},
   "source": [
    "## __Python 데이터분석 tutorial__\n",
    "\n",
    "### &nbsp; &nbsp; &nbsp; &nbsp; 1. [데이터 시각화](pandas_tutorial1.ipynb)\n",
    "\n",
    "### &nbsp; &nbsp; &nbsp; &nbsp; 2. [Python data analysis 시작하기](pandas_tutorial2.ipynb)\n",
    "\n",
    "### &nbsp; &nbsp; &nbsp; &nbsp; 3. [데이터 호출, 저장](pandas_tutorial3.ipynb)\n",
    "\n",
    "### &nbsp; &nbsp; &nbsp; &nbsp; 4. [Python 으로 구현하는 쿼리문](pandas_tutorial4.ipynb)"
   ]
  }
 ],
 "metadata": {
  "kernelspec": {
   "display_name": "Python 3",
   "language": "python",
   "name": "python3"
  },
  "language_info": {
   "codemirror_mode": {
    "name": "ipython",
    "version": 3
   },
   "file_extension": ".py",
   "mimetype": "text/x-python",
   "name": "python",
   "nbconvert_exporter": "python",
   "pygments_lexer": "ipython3",
   "version": "3.6.7"
  }
 },
 "nbformat": 4,
 "nbformat_minor": 2
}
