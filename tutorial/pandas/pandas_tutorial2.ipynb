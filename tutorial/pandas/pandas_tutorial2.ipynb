{
 "cells": [
  {
   "cell_type": "markdown",
   "metadata": {},
   "source": [
    "# __Python data analysis 시작하기__\n",
    "<br>\n",
    "\n",
    "### Table of contents\n",
    "1. [Pandas : Python Data Analysis Library](#p2section1)\n",
    "2. [Dataframe](#p2section2)\n",
    "    - [Dataframe 생성](#p2section21)\n",
    "    - [데이터값 확인](#p2section22)\n",
    "    - [필터링](#p2section23)\n",
    "    - [데이터 합병](#p2section24)\n",
    "    - [기타 처리](#p2section25)\n",
    "\n",
    "<br>"
   ]
  },
  {
   "cell_type": "markdown",
   "metadata": {},
   "source": [
    "## __Pandas : Python Data Analysis Library__ <a name=\"p2section1\"></a>\n",
    "리스트와 같은 기본 데이터 구조를 사용해서도 많은 작업을 할 수 있지만,  \n",
    "좀 더 쉽게 다루기 위한 여러 기능들을 모아 라이브러리로 배포하고 있습니다.  \n",
    "그 중 대표적인 것은 pandas 입니다.  \n",
    "https://pandas.pydata.org/  \n",
    "홈페이지에서 상세 기능들을 볼 수 있으며 아래와 같은 주요 기능들이 있습니다.  \n",
    "> Intro to Data Structures  \n",
    "Essential Basic Functionality  \n",
    "Working with Text Data  \n",
    "Indexing and Selecting Data  \n",
    "MultiIndex / Advanced Indexing  \n",
    "Computational tools  \n",
    "Working with missing data  \n",
    "Group By: split-apply-combine  \n",
    "Merge, join, and concatenate  \n",
    "Reshaping and Pivot Tables  \n",
    "Time Series / Date functionality  \n",
    "Time Deltas  \n",
    "Categorical Data  \n",
    "Visualization  \n",
    "IO Tools (Text, CSV, HDF5, …)  \n",
    "Enhancing Performance  "
   ]
  },
  {
   "cell_type": "markdown",
   "metadata": {},
   "source": [
    "## __Dataframe__ <a name=\"p2section2\"></a>\n",
    "DB의 테이블과 같은 기능을 하는 데이터 형태는 Dataframe 으로 정의 됩니다.  \n",
    "R 에서도 dataframe 라느 이름으로 유사한 구조를 제공합니다.  \n",
    "한 개의 column 은 Series 로 정의됩니다."
   ]
  },
  {
   "cell_type": "code",
   "execution_count": 1,
   "metadata": {},
   "outputs": [],
   "source": [
    "from pandas import Series, DataFrame\n",
    "import pandas as pd"
   ]
  },
  {
   "cell_type": "markdown",
   "metadata": {},
   "source": [
    "### __Dataframe 생성__ <a name=\"p2section21\"></a>"
   ]
  },
  {
   "cell_type": "code",
   "execution_count": 2,
   "metadata": {},
   "outputs": [
    {
     "name": "stdout",
     "output_type": "stream",
     "text": [
      "       name  deposit  debt\n",
      "0   chulsoo      300   100\n",
      "1  younghee      500   120\n",
      "2   soonhee     1000   200\n",
      "\n",
      "          name  deposit  debt\n",
      "id1   chulsoo      300   100\n",
      "id2  younghee      500   120\n",
      "id3   soonhee     1000   200\n",
      "\n",
      "         name1  deposit2  debt3\n",
      "id1   chulsoo       300    100\n",
      "id2  younghee       500    120\n",
      "id3   soonhee      1000    200\n",
      "\n",
      "       name  english  math\n",
      "1  charles      100    40\n",
      "2     jane       20    50\n",
      "3     mary       30    60\n"
     ]
    }
   ],
   "source": [
    "# 개별 칼럼을 dictionary 의 한 개 키에 매핑되는 리스트로 표현\n",
    "# default 로 index 는 0 부터 숫자로 대입\n",
    "data1 = {'name': ['chulsoo', 'younghee', 'soonhee'], 'deposit': [300, 500, 1000], 'debt': [100, 120, 200]}\n",
    "df1 = DataFrame(data1)\n",
    "print(df1)\n",
    "df1.index = ['id1', 'id2', 'id3'] # index 값 바꾸어 주기\n",
    "print('\\n', df1)\n",
    "df1.columns = ['name1', 'deposit2', 'debt3']\n",
    "print('\\n', df1)\n",
    "# 각 index 에 해당하는 데이터 값들을 list 형태로 입력 가능합니다.\n",
    "# column 명과 index 명은 별도로 줄 수 있습니다.\n",
    "df2 = DataFrame([['charles', 100, 40], ['jane', 20, 50], ['mary', 30, 60]], columns=['name', 'english', 'math'], \n",
    "                index=[1,2,3]) \n",
    "print('\\n', df2)"
   ]
  },
  {
   "cell_type": "code",
   "execution_count": 3,
   "metadata": {},
   "outputs": [
    {
     "name": "stdout",
     "output_type": "stream",
     "text": [
      "      name  english  math  science\n",
      "1  charles      100    40      NaN\n",
      "2     jane       20    50      NaN\n",
      "3     mary       30    60      NaN\n",
      "\n",
      "       name  english  math  science\n",
      "1  charles      100    40        0\n",
      "2     jane       20    50        0\n",
      "3     mary       30    60        0\n",
      "\n",
      "       name  english  math\n",
      "1  charles      100    40\n",
      "3     mary       30    60\n"
     ]
    }
   ],
   "source": [
    "# reindex : index, column 명 변경  \n",
    "# 새로운 컬럼명이 주어질 경우 그에 해당하는 컬럼이 새롭게 추가됩니다.  \n",
    "# default로 NaN(not a number) 이 주어지고, 이에 대한 설정도 가능합니다.  \n",
    "df3 = df2.reindex(columns=['name', 'english', 'math', 'science']) # 새로운 컬럼 science 생성\n",
    "print(df3)\n",
    "df4 = df2.reindex(columns=['name', 'english', 'math', 'science'], fill_value=0) # 새로운 값 0으로 설정\n",
    "print('\\n', df4)\n",
    "df5 = df3.drop(columns='science', index=2) # 특정 컬럼 및 index 삭제\n",
    "print('\\n', df5)"
   ]
  },
  {
   "cell_type": "markdown",
   "metadata": {},
   "source": [
    "### __데이터값 확인__ <a name=\"p2section22\"></a>"
   ]
  },
  {
   "cell_type": "code",
   "execution_count": 4,
   "metadata": {},
   "outputs": [
    {
     "name": "stdout",
     "output_type": "stream",
     "text": [
      "1    charles\n",
      "2       jane\n",
      "3       mary\n",
      "Name: name, dtype: object\n",
      "\n",
      " 1    charles\n",
      "2       jane\n",
      "3       mary\n",
      "Name: name, dtype: object\n",
      "\n",
      " name       charles\n",
      "english        100\n",
      "math            40\n",
      "Name: 1, dtype: object\n",
      "\n",
      " name       charles\n",
      "english        100\n",
      "math            40\n",
      "Name: 1, dtype: object\n",
      "\n",
      "    english  math\n",
      "1      100    40\n",
      "\n",
      " 100\n",
      "\n",
      " 1    100\n",
      "2     20\n",
      "3     30\n",
      "Name: english, dtype: int64\n",
      "\n",
      "       name  english  math\n",
      "1  charles       98    40\n",
      "2     jane       20    50\n",
      "3     mary       30    60\n"
     ]
    }
   ],
   "source": [
    "print(df2['name'])\n",
    "# 컬럼 데이터 확인  \n",
    "# 클래스의 attributes 와 같은 형태로도 호출 가능합니다 \n",
    "print('\\n', df2.name) \n",
    "# 특정 index에 대한 호출은 loc(index 값), iloc(index 위치) 를 이용합니다.\n",
    "print('\\n', df2.loc[1]) \n",
    "print('\\n', df2.iloc[0]) \n",
    "print('\\n', df2.loc[(1,), ('english', 'math')]) # row 1 의 ['english', 'math'] column\n",
    "print('\\n', df2.loc[1,'english']) # index 1 의 'english' column\n",
    "print('\\n', df2.loc[:,'english']) # index 전체의 'english' column\n",
    "# 테이블 값의 변경\n",
    "df2.loc[1, 'english'] = 98 # 개별 element의 값 변경 (index, column 순서)\n",
    "print('\\n', df2) "
   ]
  },
  {
   "cell_type": "markdown",
   "metadata": {},
   "source": [
    "### __필터링__ <a name=\"p2section23\"></a>"
   ]
  },
  {
   "cell_type": "code",
   "execution_count": 5,
   "metadata": {},
   "outputs": [
    {
     "name": "stdout",
     "output_type": "stream",
     "text": [
      "   name  english  math\n",
      "2  jane       20    50\n",
      "3  mary       30    60\n",
      "\n",
      " 2    jane\n",
      "3    mary\n",
      "Name: name, dtype: object\n",
      "\n",
      "       name  english  math\n",
      "1  charles       98     0\n",
      "2     jane       20    50\n",
      "3     mary       30    60\n"
     ]
    }
   ],
   "source": [
    "print( df2[df2['math']>40] ) # 'math' 값이 40 이상인 데이터\n",
    "print('\\n', df2[df2['math']>40]['name'] ) # 'math' 값이 40 이상인 데이터의 'name' 컬럼\n",
    "df2.loc[df2.math < 50, 'math'] = 0 # 'math' 값이 50 이하인 값들은 0으로 설정\n",
    "# note : df2.loc[df2.math < 50] = 0 와 같이 할 경우 math 컬럼 외 다른 컬럼의 값도 0으로 변경\n",
    "print('\\n', df2)"
   ]
  },
  {
   "cell_type": "markdown",
   "metadata": {},
   "source": [
    "### __데이터 합병__ <a name=\"p2section24\"></a>"
   ]
  },
  {
   "cell_type": "code",
   "execution_count": 8,
   "metadata": {},
   "outputs": [
    {
     "name": "stdout",
     "output_type": "stream",
     "text": [
      "      name  english  math\n",
      "1  charles       98     0\n",
      "2     jane       20    50\n",
      "3     mary       30    60\n",
      "\n",
      "       name  english  math\n",
      "4      ray       90    30\n",
      "5  charlie       40    50\n",
      "\n",
      "    science\n",
      "1       50\n",
      "2       65\n",
      "3       33\n",
      "\n",
      "       name  english  math\n",
      "1  charles       98     0\n",
      "2     jane       20    50\n",
      "3     mary       30    60\n",
      "4      ray       90    30\n",
      "5  charlie       40    50\n",
      "\n",
      "       name  english  math  science\n",
      "1  charles       98     0       50\n",
      "2     jane       20    50       65\n",
      "3     mary       30    60       33\n"
     ]
    }
   ],
   "source": [
    "print(df2)\n",
    "df2b = DataFrame([['ray', 90, 30], ['charlie', 40, 50]], index=[4,5], columns=['name', 'english', 'math'])\n",
    "print('\\n', df2b)\n",
    "df2c = DataFrame([[50], [65], [33]], index=[1,2,3], columns=['science'])\n",
    "print('\\n', df2c)\n",
    "df4 = pd.concat([df2, df2b]) # 원래의 df2 에 새로운 index 들로 df2b 추가\n",
    "print('\\n', df4)\n",
    "df5 = pd.concat([df2, df2c], axis=1) # 원래의 df2 에 새로운 컬럼들로 df2c 추가\n",
    "print('\\n', df5)"
   ]
  },
  {
   "cell_type": "markdown",
   "metadata": {},
   "source": [
    "### __기타 처리__ <a name=\"p2section25\"></a>"
   ]
  },
  {
   "cell_type": "code",
   "execution_count": 6,
   "metadata": {},
   "outputs": [
    {
     "data": {
      "text/plain": [
       "array([['charles', 98, 0],\n",
       "       ['jane', 20, 50],\n",
       "       ['mary', 30, 60]], dtype=object)"
      ]
     },
     "execution_count": 6,
     "metadata": {},
     "output_type": "execute_result"
    }
   ],
   "source": [
    "df2.values # 테이블 값 만을 numpy ndarray 형태로 리턴"
   ]
  },
  {
   "cell_type": "code",
   "execution_count": 7,
   "metadata": {},
   "outputs": [
    {
     "name": "stdout",
     "output_type": "stream",
     "text": [
      "      name  english  math\n",
      "1  charles       98     0\n",
      "2     jane       20    50\n",
      "3     mary       30    60\n",
      "\n",
      "                1     2     3\n",
      "name     charles  jane  mary\n",
      "english       98    20    30\n",
      "math           0    50    60\n"
     ]
    }
   ],
   "source": [
    "df2t = df2.T # transpose\n",
    "print(df2) # 원래의 값은 변형되지 않습니다.\n",
    "print('\\n', df2t)"
   ]
  },
  {
   "cell_type": "markdown",
   "metadata": {},
   "source": [
    "<br><br>\n",
    "\n",
    "---\n",
    "##### [이전 페이지](pandas_tutorial1.ipynb)\n",
    "##### [다음 페이지](pandas_tutorial3.ipynb)"
   ]
  },
  {
   "cell_type": "code",
   "execution_count": null,
   "metadata": {},
   "outputs": [],
   "source": []
  }
 ],
 "metadata": {
  "kernelspec": {
   "display_name": "Python 3",
   "language": "python",
   "name": "python3"
  },
  "language_info": {
   "codemirror_mode": {
    "name": "ipython",
    "version": 3
   },
   "file_extension": ".py",
   "mimetype": "text/x-python",
   "name": "python",
   "nbconvert_exporter": "python",
   "pygments_lexer": "ipython3",
   "version": "3.6.6"
  }
 },
 "nbformat": 4,
 "nbformat_minor": 2
}
