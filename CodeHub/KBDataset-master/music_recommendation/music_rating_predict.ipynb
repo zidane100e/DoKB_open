{
 "cells": [
  {
   "cell_type": "code",
   "execution_count": null,
   "metadata": {},
   "outputs": [],
   "source": [
    "# users : 200000 \n",
    "# musics : 127771\n",
    "\n",
    "import music_rating\n",
    "\n",
    "(x_train, y_train), (x_test, y_test) = music_rating.Data().load_data()\n",
    "user_train, user_test = x_train[0], x_test[0]\n",
    "song_train, song_test = x_train[1], x_test[1]\n",
    "\n",
    "from keras.layers import Embedding, Dense, Input, Reshape, Concatenate\n",
    "from keras.models import Model\n",
    "\n",
    "n_embedding = 256 # 5\n",
    "user_set = set(user_train.flatten().tolist() + user_test.flatten().tolist())\n",
    "song_set = set(song_train.flatten().tolist() + song_test.flatten().tolist())\n",
    "n_input_user = len(user_set)\n",
    "n_input_song = len(song_set)\n",
    "\n",
    "user_id_input = Input(shape=[1], name='user')\n",
    "song_id_input = Input(shape=[1], name='song')\n",
    "\n",
    "user_embedding = Embedding(output_dim=n_embedding, input_dim=n_input_user,\n",
    "                           input_length=1, name='user_embedding')(user_id_input)\n",
    "song_embedding = Embedding(output_dim=n_embedding, input_dim=n_input_song,\n",
    "                           input_length=1, name='song_embedding')(song_id_input)\n",
    "\n",
    "user_vecs = Reshape([n_embedding])(user_embedding)\n",
    "song_vecs = Reshape([n_embedding])(song_embedding)\n",
    "input_vecs = Concatenate()([user_vecs, song_vecs])\n",
    "\n",
    "x = Dense(128, activation='sigmoid')(input_vecs)\n",
    "#x = Dense(64, activation='sigmoid')(x)\n",
    "\n",
    "y = Dense(1)(x)\n",
    "\n",
    "model = Model(inputs=[user_id_input, song_id_input], outputs=y)\n",
    "#model.compile(optimizer='adam', loss='mse')\n",
    "model.compile(optimizer='adagrad', loss='mse')\n",
    "\n",
    "model.fit([user_train, song_train], y_train, epochs=20, batch_size = 500, verbose=1)\n",
    "loss = model.evaluate([user_test, song_test], y_test)\n",
    "print('mse loss = ', loss)"
   ]
  }
 ],
 "metadata": {
  "kernelspec": {
   "display_name": "Python 3",
   "language": "python",
   "name": "python3"
  },
  "language_info": {
   "codemirror_mode": {
    "name": "ipython",
    "version": 3
   },
   "file_extension": ".py",
   "mimetype": "text/x-python",
   "name": "python",
   "nbconvert_exporter": "python",
   "pygments_lexer": "ipython3",
   "version": "3.6.1"
  }
 },
 "nbformat": 4,
 "nbformat_minor": 2
}
