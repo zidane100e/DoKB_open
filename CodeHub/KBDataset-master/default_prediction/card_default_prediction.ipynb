{
 "cells": [
  {
   "cell_type": "markdown",
   "metadata": {},
   "source": [
    "### Intro\n",
    "고객의 신용 한도, 최근 5개월 사용 내역, 지급 등으로 부터 카드 default 가능성을 예측합니다.  \n",
    "* 오래된 공개데이터라 변수별 상세 설명 부족  \n",
    "* 데이터 값에 일부 오류 존재하지만 전처리 과정에서 일부분 정리  \n",
    "* 전처리 데이터는 scikit-learn, keras 에서 바로 사용할 수 있는 형태로 구성  \n",
    "    * 해당 라이브러리에는 기계학습, 딥러닝을 위한 학습 및 평가 모듈이 이미 구성\n",
    "    * 해당 함수들의 호춤만으로 간단한 예측 모델링 가능  \n",
    "\n",
    "### models\n",
    "* SVM, 인공신경망(MLP)  \n",
    "* 각 데이터 변수의 특징과 영향력에 대한 분석등은 생략\n",
    "    * 해당 데이터 변수에 대한 분포등을 살펴보고, 해당 데이터의 삭제, 변형 등이 결과값을 미치는 영향을 살펴보기 권장  "
   ]
  },
  {
   "cell_type": "code",
   "execution_count": 1,
   "metadata": {},
   "outputs": [
    {
     "name": "stderr",
     "output_type": "stream",
     "text": [
      "/home/bwlee/anaconda3/lib/python3.6/site-packages/h5py/__init__.py:34: FutureWarning: Conversion of the second argument of issubdtype from `float` to `np.floating` is deprecated. In future, it will be treated as `np.float64 == np.dtype(float).type`.\n",
      "  from ._conv import register_converters as _register_converters\n",
      "Using TensorFlow backend.\n"
     ]
    }
   ],
   "source": [
    "import numpy as np \n",
    "import pandas as pd\n",
    "from sklearn.svm import SVC\n",
    "from sklearn.metrics import accuracy_score\n",
    "import keras\n",
    "from keras import models\n",
    "from keras import layers"
   ]
  },
  {
   "cell_type": "markdown",
   "metadata": {},
   "source": [
    "#### 데이터 로드\n",
    "y 값은 (0, 1) 사이의 값  \n",
    "ys = [1, 0, 0, 1, ...]"
   ]
  },
  {
   "cell_type": "code",
   "execution_count": 3,
   "metadata": {},
   "outputs": [],
   "source": [
    "import sys\n",
    "import card_default as cd\n",
    "\n",
    "# load data\n",
    "data1 = cd.Data()\n",
    "data1.load_data()\n",
    "(x_train, y_train), (x_test, y_test) = data1.load_data()"
   ]
  },
  {
   "cell_type": "markdown",
   "metadata": {},
   "source": [
    "#### SVM\n",
    "scikit-learn 모듈을 사용해 SVM 적용\n",
    "(딥러닝 라이브러리 실행시 시스템 상태에 대한 출력이 많아 편의상 결과값을 아래에서 출력)"
   ]
  },
  {
   "cell_type": "code",
   "execution_count": 4,
   "metadata": {},
   "outputs": [
    {
     "name": "stderr",
     "output_type": "stream",
     "text": [
      "/home/bwlee/anaconda3/lib/python3.6/site-packages/sklearn/utils/validation.py:578: DataConversionWarning: A column-vector y was passed when a 1d array was expected. Please change the shape of y to (n_samples, ), for example using ravel().\n",
      "  y = column_or_1d(y, warn=True)\n"
     ]
    }
   ],
   "source": [
    "estimator = SVC(kernel='rbf')\n",
    "selector = estimator.fit(x_train,y_train)\n",
    "\n",
    "y_predict_train = selector.predict(x_train)\n",
    "y_predict_test = selector.predict(x_test)"
   ]
  },
  {
   "cell_type": "markdown",
   "metadata": {},
   "source": [
    "#### MLP\n",
    "y값을 다차원 카테고리 형식으로 바꾸어 주고, 학습 후 동일한 방식으로 비교  \n",
    "[1, 0, ...] --> [[0,1], [1,0], ...]"
   ]
  },
  {
   "cell_type": "code",
   "execution_count": 5,
   "metadata": {},
   "outputs": [
    {
     "name": "stdout",
     "output_type": "stream",
     "text": [
      "22500/22500 [==============================] - 0s 15us/step\n",
      "7500/7500 [==============================] - 0s 15us/step\n"
     ]
    }
   ],
   "source": [
    "from keras.utils import to_categorical\n",
    "y_test_cat = to_categorical(y_test)\n",
    "y_train_cat = to_categorical(y_train)\n",
    "\n",
    "mlp = models.Sequential()\n",
    "mlp.add(layers.Dense(50, activation='relu', input_shape=(30,)))\n",
    "mlp.add(layers.Dense(2, activation='softmax'))\n",
    "mlp.compile(optimizer='adagrad', \n",
    "            loss='categorical_crossentropy', metrics=['accuracy'])\n",
    "\n",
    "mlp.fit(x_train, y_train_cat, epochs=50, batch_size = 100, verbose=0)\n",
    "loss0, accuracy0 = mlp.evaluate(x_train, y_train_cat)\n",
    "loss, accuracy = mlp.evaluate(x_test, y_test_cat)"
   ]
  },
  {
   "cell_type": "markdown",
   "metadata": {},
   "source": [
    "#### Results"
   ]
  },
  {
   "cell_type": "code",
   "execution_count": 6,
   "metadata": {},
   "outputs": [
    {
     "name": "stdout",
     "output_type": "stream",
     "text": [
      "======== SVM ========\n",
      "Train Accuracy Score: 0.7828888888888889\n",
      "Test Accuracy Score: 0.7817333333333333\n",
      "======== MLP ========\n",
      "train accuracy =  0.8139555555555555\n",
      "test accuracy =  0.8132000000635783\n"
     ]
    }
   ],
   "source": [
    "print(\"======== SVM ========\")\n",
    "print(\"Train Accuracy Score:\", accuracy_score(y_train, y_predict_train))\n",
    "print(\"Test Accuracy Score:\", accuracy_score(y_test, y_predict_test))\n",
    "\n",
    "print(\"======== MLP ========\")\n",
    "print('train accuracy = ', accuracy0)\n",
    "print('test accuracy = ', accuracy)"
   ]
  },
  {
   "cell_type": "code",
   "execution_count": null,
   "metadata": {},
   "outputs": [],
   "source": []
  }
 ],
 "metadata": {
  "kernelspec": {
   "display_name": "Python 3",
   "language": "python",
   "name": "python3"
  },
  "language_info": {
   "codemirror_mode": {
    "name": "ipython",
    "version": 3
   },
   "file_extension": ".py",
   "mimetype": "text/x-python",
   "name": "python",
   "nbconvert_exporter": "python",
   "pygments_lexer": "ipython3",
   "version": "3.6.1"
  }
 },
 "nbformat": 4,
 "nbformat_minor": 2
}
