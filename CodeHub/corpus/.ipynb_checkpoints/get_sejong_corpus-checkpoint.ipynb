{
 "cells": [
  {
   "cell_type": "markdown",
   "metadata": {},
   "source": [
    "Get files after applying sejong_cleaner  \n",
    "And save it into different form before merging dictionaries"
   ]
  },
  {
   "cell_type": "code",
   "execution_count": 64,
   "metadata": {},
   "outputs": [
    {
     "data": {
      "text/plain": [
       "'\\n141372,힛,힛/MAG,1,False\\n1510816,￦500/캔으로,￦/SW 500/SN //SP 캔/NNG 으로/JKB,1,True\\n'"
      ]
     },
     "execution_count": 64,
     "metadata": {},
     "output_type": "execute_result"
    }
   ],
   "source": [
    "f1_s = [\"../data/clean/eojeol_morphtag_table_written.txt\", \"../data/clean/eojeol_morphtag_table_colloquial.txt\"]\n",
    "\"\"\"\n",
    "141372,힛,힛/MAG,1,False\n",
    "1510816,￦500/캔으로,￦/SW 500/SN //SP 캔/NNG 으로/JKB,1,True\n",
    "\"\"\""
   ]
  },
  {
   "cell_type": "code",
   "execution_count": 121,
   "metadata": {},
   "outputs": [],
   "source": [
    "def extract_morph(s1, dic):\n",
    "    import re\n",
    "    s2 = s1.split(',')\n",
    "    if len(s2) == 5: # normal case which are separated with comma\n",
    "        if s2[2][-1] == r'\"':\n",
    "            s3 = s2[2][1:-1].split()\n",
    "        else:\n",
    "            s3 = s2[2].split()            \n",
    "    else: # if s1 has comma, it has extra elements\n",
    "        #print('111', s1)\n",
    "        m1 = re.findall('(\\\".+?\\\")+', s1)\n",
    "        #print('222', m1)\n",
    "        if m1 is not None:\n",
    "            #print(m1, s1)\n",
    "            if len(m1) > 1:\n",
    "                s3 = m1[1].strip('\\\"').split()\n",
    "            else:\n",
    "                s3 = []\n",
    "            #print('333', s3, '    ', m1, '--------', s1, '2222', s2)\n",
    "        else:\n",
    "            raise RuntimeError(\"cannot understand string\")\n",
    "            print('no', s1)\n",
    "    for elm1 in s3:\n",
    "        dic.setdefault(elm1, 0)\n",
    "        dic[elm1] += 1"
   ]
  },
  {
   "cell_type": "code",
   "execution_count": 122,
   "metadata": {},
   "outputs": [],
   "source": [
    "dic = {}\n",
    "for f1_s1 in f1_s:\n",
    "    with open(f1_s1) as f1:\n",
    "        f1.readline() # skip first line\n",
    "        for line in f1:\n",
    "            extract_morph(line, dic)"
   ]
  },
  {
   "cell_type": "code",
   "execution_count": 123,
   "metadata": {},
   "outputs": [
    {
     "name": "stdout",
     "output_type": "stream",
     "text": [
      ", --- 50\n",
      "(文華閣), --- 1\n",
      "으로, --- 1\n",
      "이고, --- 1\n",
      "라 --- 1\n",
      ",코믹드라마로 --- 1\n",
      "라고, --- 1\n",
      "(두렁치마, --- 1\n",
      "하고, --- 1\n",
      "자리이고, --- 1\n",
      "(三小累檐遮), --- 1\n",
      "(宣傳官廳)인, --- 1\n",
      "(實拍栱)으로, --- 1\n",
      "(유관순), --- 1\n",
      "그래 --- 1\n",
      "사용법과, --- 1\n",
      "(二小累檐遮), --- 1\n",
      "(一斗三升斗栱), --- 1\n",
      "에, --- 2\n",
      "(김화영), --- 1\n",
      "이라느니, --- 1\n",
      "(布政門), --- 1\n",
      "「畵堂, --- 1\n"
     ]
    }
   ],
   "source": [
    "with open('sejong.dic', 'w') as f2:\n",
    "    for key, val in dic.items():\n",
    "        #print(k)\n",
    "        keys = key.split('/')\n",
    "        try:\n",
    "            f2.write(\"%s\\t%s:%d\\n\"%(keys[0], keys[1], val))\n",
    "        except:\n",
    "            print(key, '---', val)"
   ]
  },
  {
   "cell_type": "code",
   "execution_count": null,
   "metadata": {},
   "outputs": [],
   "source": []
  }
 ],
 "metadata": {
  "kernelspec": {
   "display_name": "Python 3",
   "language": "python",
   "name": "python3"
  },
  "language_info": {
   "codemirror_mode": {
    "name": "ipython",
    "version": 3
   },
   "file_extension": ".py",
   "mimetype": "text/x-python",
   "name": "python",
   "nbconvert_exporter": "python",
   "pygments_lexer": "ipython3",
   "version": "3.6.8"
  }
 },
 "nbformat": 4,
 "nbformat_minor": 2
}
