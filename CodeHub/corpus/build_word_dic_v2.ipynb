{
 "cells": [
  {
   "cell_type": "code",
   "execution_count": 2,
   "metadata": {},
   "outputs": [],
   "source": [
    "'''\n",
    "dictionary sample\n",
    "꼭지\tNNP:2\tNNG:12\n",
    "'''\n",
    "import re\n",
    "\n",
    "f1_s = 'dic.word'\n",
    "f2_s = 'sejong.dic'\n",
    "\n",
    "# 아래의 tag 들만 저장 : 일부 komoran 에 없는 tag 세종말뭉치에 있음\n",
    "tags = ['MAJ', 'ETN', 'JKC', 'EP', 'JKQ', 'EC', \n",
    "        'SO', 'SE', 'JKO', 'JX', 'NNB', 'JKG', 'SS',\n",
    "        'IC', 'SF', 'NP', 'VA', 'EF', 'VCN', 'ETM', \n",
    "        'XSA', 'JKS', 'JC', 'JKV', 'NNG', 'XPN', 'XSN', \n",
    "        'VCP', 'VX', 'VV', 'NR', 'XR', 'MM', 'XSV', \n",
    "        'NNP', 'MAG', 'SW', 'NA', 'SP', 'JKB']\n",
    "\n",
    "def get_word_dic(f1_s, dic, ix = 0):\n",
    "    with open(f1_s) as f1:\n",
    "        for line in f1:\n",
    "            elms = line.split()\n",
    "            for tag in elms[1:]: # some words have multiple morpheme tag : refer sample in head\n",
    "                morph_tag, count = tag.split(':')\n",
    "                if morph_tag not in tags:\n",
    "                    continue\n",
    "                count = int(count)\n",
    "                name = elms[0] + '\\t' + morph_tag\n",
    "                dic.setdefault(name, 0)\n",
    "                dic[name] += count # some keys are duplicate\n",
    "                ix += 1\n",
    "    return ix\n",
    "\n",
    "def get_duplicate_words(dic1, dic2):\n",
    "    # two dictionary have different counts\n",
    "    # get intersection and sum counts of duplicate items\n",
    "    dic_union_key = dic1.keys() | dic2.keys()\n",
    "    dic_intersection_key = dic1.keys() & dic2.keys()\n",
    "    dic_union, dic_intersection = {}, {}\n",
    "\n",
    "    for key1 in dic1.keys(): \n",
    "        dic_union.setdefault(key1, 0)\n",
    "        dic_union[key1] += dic1[key1]\n",
    "    for key2 in dic2.keys(): \n",
    "        dic_union.setdefault(key2, 0)\n",
    "        dic_union[key2] += dic2[key2]\n",
    "        \n",
    "    return dic_union, dic_intersection"
   ]
  },
  {
   "cell_type": "code",
   "execution_count": 9,
   "metadata": {},
   "outputs": [
    {
     "name": "stdout",
     "output_type": "stream",
     "text": [
      "68150 173429\n"
     ]
    }
   ],
   "source": [
    "dic1, dic2, dic3 = {}, {}, {}\n",
    "ix1 = get_word_dic(f1_s, dic1, 0)\n",
    "ix2 = get_word_dic(f2_s, dic2, 0)\n",
    "print(ix1, ix2)"
   ]
  },
  {
   "cell_type": "code",
   "execution_count": 10,
   "metadata": {
    "scrolled": true
   },
   "outputs": [
    {
     "name": "stdout",
     "output_type": "stream",
     "text": [
      "['SO', 'JC', 'MM', 'NNG', 'JKQ', 'ETM', 'VA', 'NNB', 'NNP', 'XPN', 'JKC', 'NP', 'XSV', 'VV', 'MAG', 'EC', 'VX', 'SW', 'ETN', 'XR', 'NR', 'SS', 'SF', 'XSN', 'NA', 'VCN', 'SP', 'EF', 'JX', 'SE', 'JKV', 'VCP', 'XSA', 'JKB', 'IC', 'EP', 'JKG', 'JKO', 'JKS', 'MAJ'] 40\n"
     ]
    }
   ],
   "source": [
    "tags = []\n",
    "for key1 in dic1.keys():\n",
    "    word, tag = key1.split('\\t')\n",
    "    tags.append(tag)\n",
    "tags = list(set(tags))\n",
    "print(tags, len(tags))"
   ]
  },
  {
   "cell_type": "code",
   "execution_count": 11,
   "metadata": {},
   "outputs": [],
   "source": [
    "def remove_non_korean(dic1):\n",
    "    '''\n",
    "    한글만을 추출할 경우 적용\n",
    "    처음 세종 코퍼스 전처리 단어 추출에서 형태소 tag 을 제외함으로써 한글이 아닌 글자들 대부분 제외되어 있음\n",
    "    '''\n",
    "    dic2 = {}\n",
    "    for key1, val1 in dic1.items():\n",
    "        noun, tag = key1.split('\\t')\n",
    "        if re.search(\"[^가-힣]\", noun) is None:\n",
    "            dic2[key1] = val1\n",
    "    return dic2\n",
    "\n",
    "dic2 = remove_non_korean(dic2)"
   ]
  },
  {
   "cell_type": "code",
   "execution_count": 12,
   "metadata": {},
   "outputs": [
    {
     "name": "stdout",
     "output_type": "stream",
     "text": [
      "꼬지\tNNG 13\n",
      "탄로\tNNG 30\n",
      "미심쩍\tVA 19\n",
      "편마비\tNNG 2\n",
      "쿠폰\tNNG 16\n",
      "대중음악고\tNNG 2\n",
      "경창헌\tNNP 1\n",
      "구롓길\tNNG 2\n",
      "국제선\tNNG 11\n",
      "고전학\tNNG 3\n"
     ]
    }
   ],
   "source": [
    "'''\n",
    "dic_union, dic_intersection = get_duplicate_words(dic1, dic2)\n",
    "ratio = evaluate_ratio(dic_intersection)\n",
    "ratio = 1\n",
    "dic_union_adjust = adjust_count(dic_union, dic2, ratio)\n",
    "print(ratio)\n",
    "keys = dic_union_adjust.keys()\n",
    "'''\n",
    "dic_union_adjust, dic_intersection = get_duplicate_words(dic1, dic2)\n",
    "keys = dic_union_adjust.keys()\n",
    "for key1 in list(keys)[:10]:\n",
    "    print(key1, dic_union_adjust[key1])"
   ]
  },
  {
   "cell_type": "code",
   "execution_count": 13,
   "metadata": {},
   "outputs": [],
   "source": [
    "def save_dic(dic_adjust):\n",
    "    f1_s = 'word.pk'\n",
    "    f2_s = 'dic2.word'\n",
    "    f3_s = 'user_raw.dic'\n",
    "    save_dic2pk(f1_s, dic_adjust)\n",
    "    save_dic2txt(f2_s, dic_adjust)\n",
    "    save_dic2user(f3_s, dic_adjust)\n",
    "    \n",
    "def save_dic2pk(f1_s, dic_adjust):\n",
    "    import pickle as pk\n",
    "    with open(f1_s, 'wb') as f1:\n",
    "        pk.dump(dic_adjust, f1)\n",
    "        \n",
    "# find words have multiple morpheme tags\n",
    "def save_dic2txt(f1_s, dic_adjust):\n",
    "    temp_dic = {}\n",
    "    for key1 in dic_adjust.keys():\n",
    "        #print(key1)\n",
    "        name, tag = key1.split('\\t') # key1 ~ 'hangul\\ttag', val ~ 'count'\n",
    "        temp_dic.setdefault(name, [])\n",
    "        temp_dic[name].append(tag)\n",
    "\n",
    "    # separate temp_dic with multiple tag and single tag\n",
    "    multi_dic0, single_dic0 = {}, []\n",
    "    for key1, val1 in temp_dic.items():\n",
    "        if len(val1) > 1:\n",
    "            multi_dic0[key1] = val1\n",
    "        else:\n",
    "            single_dic0.append(key1 + '\\t' + val1[0]) # key1\\tval1 <-- original key\n",
    "    \n",
    "    with open(f1_s, 'w') as f1:\n",
    "        for key1, vals1 in multi_dic0.items():\n",
    "            line = key1 + '\\t'\n",
    "            for i, tag in enumerate(vals1):\n",
    "                count_s = str( dic_adjust[key1 + '\\t' + tag] )\n",
    "                if i < len(vals1) - 1:\n",
    "                    line += tag + ':' + count_s + '\\t'\n",
    "                else:\n",
    "                    line += tag + ':' + count_s + '\\n'\n",
    "            f1.write(line)\n",
    "\n",
    "        for key1 in single_dic0:\n",
    "            line = key1 + ':' + str( dic_adjust[key1] ) + '\\n'\n",
    "            f1.write(line)\n",
    "            \n",
    "# find words have multiple morpheme tags\n",
    "def save_dic2user(f1_s, dic_adjust):\n",
    "    '''\n",
    "    In case multiple tags, write the most probable tag only\n",
    "    '''\n",
    "    dic_adjust2 = {} # {noun: tag}\n",
    "    for key1 in dic_adjust.keys():\n",
    "        #print(key1)\n",
    "        name, tag = key1.split('\\t') # {noun\\ttag: count}\n",
    "        if name in dic_adjust2.keys(): # if the key is already in, compare values\n",
    "            pre_key = name + '\\t' + dic_adjust2[name]\n",
    "            pre_val = dic_adjust[pre_key]\n",
    "            val = dic_adjust[key1]\n",
    "            if val > pre_val:\n",
    "                dic_adjust2[name] = tag\n",
    "        else: # In first appereance, add key\n",
    "            dic_adjust2[name] = tag \n",
    "            \n",
    "    with open(f1_s, 'w') as f1:\n",
    "        for key1, vals1 in dic_adjust2.items():\n",
    "            line = key1 + '\\t' + vals1 + '\\n'\n",
    "            f1.write(line)"
   ]
  },
  {
   "cell_type": "code",
   "execution_count": 14,
   "metadata": {},
   "outputs": [],
   "source": [
    "save_dic(dic_union_adjust)"
   ]
  },
  {
   "cell_type": "code",
   "execution_count": 15,
   "metadata": {},
   "outputs": [
    {
     "data": {
      "text/plain": [
       "171547"
      ]
     },
     "execution_count": 15,
     "metadata": {},
     "output_type": "execute_result"
    }
   ],
   "source": [
    "len(dic2)"
   ]
  },
  {
   "cell_type": "code",
   "execution_count": null,
   "metadata": {},
   "outputs": [],
   "source": []
  }
 ],
 "metadata": {
  "kernelspec": {
   "display_name": "Python 3",
   "language": "python",
   "name": "python3"
  },
  "language_info": {
   "codemirror_mode": {
    "name": "ipython",
    "version": 3
   },
   "file_extension": ".py",
   "mimetype": "text/x-python",
   "name": "python",
   "nbconvert_exporter": "python",
   "pygments_lexer": "ipython3",
   "version": "3.7.1"
  }
 },
 "nbformat": 4,
 "nbformat_minor": 2
}
